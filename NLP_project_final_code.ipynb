{
  "nbformat": 4,
  "nbformat_minor": 0,
  "metadata": {
    "colab": {
      "name": "NLP_project_final_code.ipynb",
      "provenance": [],
      "collapsed_sections": [],
      "machine_shape": "hm"
    },
    "kernelspec": {
      "name": "python3",
      "display_name": "Python 3"
    },
    "accelerator": "GPU",
    "widgets": {
      "application/vnd.jupyter.widget-state+json": {
        "3ee54b30c6354a2488882456744a3bb6": {
          "model_module": "@jupyter-widgets/controls",
          "model_name": "HBoxModel",
          "state": {
            "_view_name": "HBoxView",
            "_dom_classes": [],
            "_model_name": "HBoxModel",
            "_view_module": "@jupyter-widgets/controls",
            "_model_module_version": "1.5.0",
            "_view_count": null,
            "_view_module_version": "1.5.0",
            "box_style": "",
            "layout": "IPY_MODEL_f7f1fb86516b4fc8a5f55d2962e3924d",
            "_model_module": "@jupyter-widgets/controls",
            "children": [
              "IPY_MODEL_fef3d6e70bf6485d9797b3a936e11053",
              "IPY_MODEL_e04728a0597349c6b2fa106cc31d1ecf"
            ]
          }
        },
        "f7f1fb86516b4fc8a5f55d2962e3924d": {
          "model_module": "@jupyter-widgets/base",
          "model_name": "LayoutModel",
          "state": {
            "_view_name": "LayoutView",
            "grid_template_rows": null,
            "right": null,
            "justify_content": null,
            "_view_module": "@jupyter-widgets/base",
            "overflow": null,
            "_model_module_version": "1.2.0",
            "_view_count": null,
            "flex_flow": null,
            "width": null,
            "min_width": null,
            "border": null,
            "align_items": null,
            "bottom": null,
            "_model_module": "@jupyter-widgets/base",
            "top": null,
            "grid_column": null,
            "overflow_y": null,
            "overflow_x": null,
            "grid_auto_flow": null,
            "grid_area": null,
            "grid_template_columns": null,
            "flex": null,
            "_model_name": "LayoutModel",
            "justify_items": null,
            "grid_row": null,
            "max_height": null,
            "align_content": null,
            "visibility": null,
            "align_self": null,
            "height": null,
            "min_height": null,
            "padding": null,
            "grid_auto_rows": null,
            "grid_gap": null,
            "max_width": null,
            "order": null,
            "_view_module_version": "1.2.0",
            "grid_template_areas": null,
            "object_position": null,
            "object_fit": null,
            "grid_auto_columns": null,
            "margin": null,
            "display": null,
            "left": null
          }
        },
        "fef3d6e70bf6485d9797b3a936e11053": {
          "model_module": "@jupyter-widgets/controls",
          "model_name": "IntProgressModel",
          "state": {
            "_view_name": "ProgressView",
            "style": "IPY_MODEL_0275450c7aa74c73b76945ddd8a565e6",
            "_dom_classes": [],
            "description": "",
            "_model_name": "IntProgressModel",
            "bar_style": "success",
            "max": 111180,
            "_view_module": "@jupyter-widgets/controls",
            "_model_module_version": "1.5.0",
            "value": 111180,
            "_view_count": null,
            "_view_module_version": "1.5.0",
            "orientation": "horizontal",
            "min": 0,
            "description_tooltip": null,
            "_model_module": "@jupyter-widgets/controls",
            "layout": "IPY_MODEL_30626c1ab34f4e708d76331826a220f2"
          }
        },
        "e04728a0597349c6b2fa106cc31d1ecf": {
          "model_module": "@jupyter-widgets/controls",
          "model_name": "HTMLModel",
          "state": {
            "_view_name": "HTMLView",
            "style": "IPY_MODEL_61e232063c88434c86da657a83e5b69e",
            "_dom_classes": [],
            "description": "",
            "_model_name": "HTMLModel",
            "placeholder": "​",
            "_view_module": "@jupyter-widgets/controls",
            "_model_module_version": "1.5.0",
            "value": "100% 111180/111180 [26:10&lt;00:00, 70.77it/s]",
            "_view_count": null,
            "_view_module_version": "1.5.0",
            "description_tooltip": null,
            "_model_module": "@jupyter-widgets/controls",
            "layout": "IPY_MODEL_81d5e6fec8c74ce4b898080fa3bdb9fe"
          }
        },
        "0275450c7aa74c73b76945ddd8a565e6": {
          "model_module": "@jupyter-widgets/controls",
          "model_name": "ProgressStyleModel",
          "state": {
            "_view_name": "StyleView",
            "_model_name": "ProgressStyleModel",
            "description_width": "",
            "_view_module": "@jupyter-widgets/base",
            "_model_module_version": "1.5.0",
            "_view_count": null,
            "_view_module_version": "1.2.0",
            "bar_color": null,
            "_model_module": "@jupyter-widgets/controls"
          }
        },
        "30626c1ab34f4e708d76331826a220f2": {
          "model_module": "@jupyter-widgets/base",
          "model_name": "LayoutModel",
          "state": {
            "_view_name": "LayoutView",
            "grid_template_rows": null,
            "right": null,
            "justify_content": null,
            "_view_module": "@jupyter-widgets/base",
            "overflow": null,
            "_model_module_version": "1.2.0",
            "_view_count": null,
            "flex_flow": null,
            "width": null,
            "min_width": null,
            "border": null,
            "align_items": null,
            "bottom": null,
            "_model_module": "@jupyter-widgets/base",
            "top": null,
            "grid_column": null,
            "overflow_y": null,
            "overflow_x": null,
            "grid_auto_flow": null,
            "grid_area": null,
            "grid_template_columns": null,
            "flex": null,
            "_model_name": "LayoutModel",
            "justify_items": null,
            "grid_row": null,
            "max_height": null,
            "align_content": null,
            "visibility": null,
            "align_self": null,
            "height": null,
            "min_height": null,
            "padding": null,
            "grid_auto_rows": null,
            "grid_gap": null,
            "max_width": null,
            "order": null,
            "_view_module_version": "1.2.0",
            "grid_template_areas": null,
            "object_position": null,
            "object_fit": null,
            "grid_auto_columns": null,
            "margin": null,
            "display": null,
            "left": null
          }
        },
        "61e232063c88434c86da657a83e5b69e": {
          "model_module": "@jupyter-widgets/controls",
          "model_name": "DescriptionStyleModel",
          "state": {
            "_view_name": "StyleView",
            "_model_name": "DescriptionStyleModel",
            "description_width": "",
            "_view_module": "@jupyter-widgets/base",
            "_model_module_version": "1.5.0",
            "_view_count": null,
            "_view_module_version": "1.2.0",
            "_model_module": "@jupyter-widgets/controls"
          }
        },
        "81d5e6fec8c74ce4b898080fa3bdb9fe": {
          "model_module": "@jupyter-widgets/base",
          "model_name": "LayoutModel",
          "state": {
            "_view_name": "LayoutView",
            "grid_template_rows": null,
            "right": null,
            "justify_content": null,
            "_view_module": "@jupyter-widgets/base",
            "overflow": null,
            "_model_module_version": "1.2.0",
            "_view_count": null,
            "flex_flow": null,
            "width": null,
            "min_width": null,
            "border": null,
            "align_items": null,
            "bottom": null,
            "_model_module": "@jupyter-widgets/base",
            "top": null,
            "grid_column": null,
            "overflow_y": null,
            "overflow_x": null,
            "grid_auto_flow": null,
            "grid_area": null,
            "grid_template_columns": null,
            "flex": null,
            "_model_name": "LayoutModel",
            "justify_items": null,
            "grid_row": null,
            "max_height": null,
            "align_content": null,
            "visibility": null,
            "align_self": null,
            "height": null,
            "min_height": null,
            "padding": null,
            "grid_auto_rows": null,
            "grid_gap": null,
            "max_width": null,
            "order": null,
            "_view_module_version": "1.2.0",
            "grid_template_areas": null,
            "object_position": null,
            "object_fit": null,
            "grid_auto_columns": null,
            "margin": null,
            "display": null,
            "left": null
          }
        },
        "3aed6af34db54d378b7cab93987a5afb": {
          "model_module": "@jupyter-widgets/controls",
          "model_name": "HBoxModel",
          "state": {
            "_view_name": "HBoxView",
            "_dom_classes": [],
            "_model_name": "HBoxModel",
            "_view_module": "@jupyter-widgets/controls",
            "_model_module_version": "1.5.0",
            "_view_count": null,
            "_view_module_version": "1.5.0",
            "box_style": "",
            "layout": "IPY_MODEL_c46060cde3bf4035b595d700a99b4bbb",
            "_model_module": "@jupyter-widgets/controls",
            "children": [
              "IPY_MODEL_4b3921a525a147668bcfb731bd25cc5b",
              "IPY_MODEL_ac6b730058954585baef8702018fd7ea"
            ]
          }
        },
        "c46060cde3bf4035b595d700a99b4bbb": {
          "model_module": "@jupyter-widgets/base",
          "model_name": "LayoutModel",
          "state": {
            "_view_name": "LayoutView",
            "grid_template_rows": null,
            "right": null,
            "justify_content": null,
            "_view_module": "@jupyter-widgets/base",
            "overflow": null,
            "_model_module_version": "1.2.0",
            "_view_count": null,
            "flex_flow": null,
            "width": null,
            "min_width": null,
            "border": null,
            "align_items": null,
            "bottom": null,
            "_model_module": "@jupyter-widgets/base",
            "top": null,
            "grid_column": null,
            "overflow_y": null,
            "overflow_x": null,
            "grid_auto_flow": null,
            "grid_area": null,
            "grid_template_columns": null,
            "flex": null,
            "_model_name": "LayoutModel",
            "justify_items": null,
            "grid_row": null,
            "max_height": null,
            "align_content": null,
            "visibility": null,
            "align_self": null,
            "height": null,
            "min_height": null,
            "padding": null,
            "grid_auto_rows": null,
            "grid_gap": null,
            "max_width": null,
            "order": null,
            "_view_module_version": "1.2.0",
            "grid_template_areas": null,
            "object_position": null,
            "object_fit": null,
            "grid_auto_columns": null,
            "margin": null,
            "display": null,
            "left": null
          }
        },
        "4b3921a525a147668bcfb731bd25cc5b": {
          "model_module": "@jupyter-widgets/controls",
          "model_name": "IntProgressModel",
          "state": {
            "_view_name": "ProgressView",
            "style": "IPY_MODEL_f063bef5526246f88d260b64f31d3dc3",
            "_dom_classes": [],
            "description": "Iteration",
            "_model_name": "IntProgressModel",
            "bar_style": "success",
            "max": 4633,
            "_view_module": "@jupyter-widgets/controls",
            "_model_module_version": "1.5.0",
            "value": 4633,
            "_view_count": null,
            "_view_module_version": "1.5.0",
            "orientation": "horizontal",
            "min": 0,
            "description_tooltip": null,
            "_model_module": "@jupyter-widgets/controls",
            "layout": "IPY_MODEL_935e5ab9a31341ae8f19bec7a7a19e9b"
          }
        },
        "ac6b730058954585baef8702018fd7ea": {
          "model_module": "@jupyter-widgets/controls",
          "model_name": "HTMLModel",
          "state": {
            "_view_name": "HTMLView",
            "style": "IPY_MODEL_56955e9140484a739b81504304cb31e6",
            "_dom_classes": [],
            "description": "",
            "_model_name": "HTMLModel",
            "placeholder": "​",
            "_view_module": "@jupyter-widgets/controls",
            "_model_module_version": "1.5.0",
            "value": "100% 4633/4633 [29:47&lt;00:00,  2.95it/s]",
            "_view_count": null,
            "_view_module_version": "1.5.0",
            "description_tooltip": null,
            "_model_module": "@jupyter-widgets/controls",
            "layout": "IPY_MODEL_64fd0d86b85a4e7695246ed39a5c9af6"
          }
        },
        "f063bef5526246f88d260b64f31d3dc3": {
          "model_module": "@jupyter-widgets/controls",
          "model_name": "ProgressStyleModel",
          "state": {
            "_view_name": "StyleView",
            "_model_name": "ProgressStyleModel",
            "description_width": "initial",
            "_view_module": "@jupyter-widgets/base",
            "_model_module_version": "1.5.0",
            "_view_count": null,
            "_view_module_version": "1.2.0",
            "bar_color": null,
            "_model_module": "@jupyter-widgets/controls"
          }
        },
        "935e5ab9a31341ae8f19bec7a7a19e9b": {
          "model_module": "@jupyter-widgets/base",
          "model_name": "LayoutModel",
          "state": {
            "_view_name": "LayoutView",
            "grid_template_rows": null,
            "right": null,
            "justify_content": null,
            "_view_module": "@jupyter-widgets/base",
            "overflow": null,
            "_model_module_version": "1.2.0",
            "_view_count": null,
            "flex_flow": null,
            "width": null,
            "min_width": null,
            "border": null,
            "align_items": null,
            "bottom": null,
            "_model_module": "@jupyter-widgets/base",
            "top": null,
            "grid_column": null,
            "overflow_y": null,
            "overflow_x": null,
            "grid_auto_flow": null,
            "grid_area": null,
            "grid_template_columns": null,
            "flex": null,
            "_model_name": "LayoutModel",
            "justify_items": null,
            "grid_row": null,
            "max_height": null,
            "align_content": null,
            "visibility": null,
            "align_self": null,
            "height": null,
            "min_height": null,
            "padding": null,
            "grid_auto_rows": null,
            "grid_gap": null,
            "max_width": null,
            "order": null,
            "_view_module_version": "1.2.0",
            "grid_template_areas": null,
            "object_position": null,
            "object_fit": null,
            "grid_auto_columns": null,
            "margin": null,
            "display": null,
            "left": null
          }
        },
        "56955e9140484a739b81504304cb31e6": {
          "model_module": "@jupyter-widgets/controls",
          "model_name": "DescriptionStyleModel",
          "state": {
            "_view_name": "StyleView",
            "_model_name": "DescriptionStyleModel",
            "description_width": "",
            "_view_module": "@jupyter-widgets/base",
            "_model_module_version": "1.5.0",
            "_view_count": null,
            "_view_module_version": "1.2.0",
            "_model_module": "@jupyter-widgets/controls"
          }
        },
        "64fd0d86b85a4e7695246ed39a5c9af6": {
          "model_module": "@jupyter-widgets/base",
          "model_name": "LayoutModel",
          "state": {
            "_view_name": "LayoutView",
            "grid_template_rows": null,
            "right": null,
            "justify_content": null,
            "_view_module": "@jupyter-widgets/base",
            "overflow": null,
            "_model_module_version": "1.2.0",
            "_view_count": null,
            "flex_flow": null,
            "width": null,
            "min_width": null,
            "border": null,
            "align_items": null,
            "bottom": null,
            "_model_module": "@jupyter-widgets/base",
            "top": null,
            "grid_column": null,
            "overflow_y": null,
            "overflow_x": null,
            "grid_auto_flow": null,
            "grid_area": null,
            "grid_template_columns": null,
            "flex": null,
            "_model_name": "LayoutModel",
            "justify_items": null,
            "grid_row": null,
            "max_height": null,
            "align_content": null,
            "visibility": null,
            "align_self": null,
            "height": null,
            "min_height": null,
            "padding": null,
            "grid_auto_rows": null,
            "grid_gap": null,
            "max_width": null,
            "order": null,
            "_view_module_version": "1.2.0",
            "grid_template_areas": null,
            "object_position": null,
            "object_fit": null,
            "grid_auto_columns": null,
            "margin": null,
            "display": null,
            "left": null
          }
        },
        "e8bb0523a70a444790b4241b17ebfa84": {
          "model_module": "@jupyter-widgets/controls",
          "model_name": "HBoxModel",
          "state": {
            "_view_name": "HBoxView",
            "_dom_classes": [],
            "_model_name": "HBoxModel",
            "_view_module": "@jupyter-widgets/controls",
            "_model_module_version": "1.5.0",
            "_view_count": null,
            "_view_module_version": "1.5.0",
            "box_style": "",
            "layout": "IPY_MODEL_d079902d9bb144588c3353a39ecad4c7",
            "_model_module": "@jupyter-widgets/controls",
            "children": [
              "IPY_MODEL_229f417cc17e4655b9af52f12974fc6f",
              "IPY_MODEL_afde45ea4fa6446d938cab9827c4ed04"
            ]
          }
        },
        "d079902d9bb144588c3353a39ecad4c7": {
          "model_module": "@jupyter-widgets/base",
          "model_name": "LayoutModel",
          "state": {
            "_view_name": "LayoutView",
            "grid_template_rows": null,
            "right": null,
            "justify_content": null,
            "_view_module": "@jupyter-widgets/base",
            "overflow": null,
            "_model_module_version": "1.2.0",
            "_view_count": null,
            "flex_flow": null,
            "width": null,
            "min_width": null,
            "border": null,
            "align_items": null,
            "bottom": null,
            "_model_module": "@jupyter-widgets/base",
            "top": null,
            "grid_column": null,
            "overflow_y": null,
            "overflow_x": null,
            "grid_auto_flow": null,
            "grid_area": null,
            "grid_template_columns": null,
            "flex": null,
            "_model_name": "LayoutModel",
            "justify_items": null,
            "grid_row": null,
            "max_height": null,
            "align_content": null,
            "visibility": null,
            "align_self": null,
            "height": null,
            "min_height": null,
            "padding": null,
            "grid_auto_rows": null,
            "grid_gap": null,
            "max_width": null,
            "order": null,
            "_view_module_version": "1.2.0",
            "grid_template_areas": null,
            "object_position": null,
            "object_fit": null,
            "grid_auto_columns": null,
            "margin": null,
            "display": null,
            "left": null
          }
        },
        "229f417cc17e4655b9af52f12974fc6f": {
          "model_module": "@jupyter-widgets/controls",
          "model_name": "IntProgressModel",
          "state": {
            "_view_name": "ProgressView",
            "style": "IPY_MODEL_9e8f62ce451f483096d1388cb3ef0981",
            "_dom_classes": [],
            "description": "",
            "_model_name": "IntProgressModel",
            "bar_style": "success",
            "max": 28003,
            "_view_module": "@jupyter-widgets/controls",
            "_model_module_version": "1.5.0",
            "value": 28003,
            "_view_count": null,
            "_view_module_version": "1.5.0",
            "orientation": "horizontal",
            "min": 0,
            "description_tooltip": null,
            "_model_module": "@jupyter-widgets/controls",
            "layout": "IPY_MODEL_8723ea06798549be97a5f6b0f5038e4b"
          }
        },
        "afde45ea4fa6446d938cab9827c4ed04": {
          "model_module": "@jupyter-widgets/controls",
          "model_name": "HTMLModel",
          "state": {
            "_view_name": "HTMLView",
            "style": "IPY_MODEL_cb52cf19f4d843b89d1145a3693bea89",
            "_dom_classes": [],
            "description": "",
            "_model_name": "HTMLModel",
            "placeholder": "​",
            "_view_module": "@jupyter-widgets/controls",
            "_model_module_version": "1.5.0",
            "value": "100% 28003/28003 [06:49&lt;00:00, 68.46it/s]",
            "_view_count": null,
            "_view_module_version": "1.5.0",
            "description_tooltip": null,
            "_model_module": "@jupyter-widgets/controls",
            "layout": "IPY_MODEL_d7ca2a82126f44a690c3136d9a00e51a"
          }
        },
        "9e8f62ce451f483096d1388cb3ef0981": {
          "model_module": "@jupyter-widgets/controls",
          "model_name": "ProgressStyleModel",
          "state": {
            "_view_name": "StyleView",
            "_model_name": "ProgressStyleModel",
            "description_width": "",
            "_view_module": "@jupyter-widgets/base",
            "_model_module_version": "1.5.0",
            "_view_count": null,
            "_view_module_version": "1.2.0",
            "bar_color": null,
            "_model_module": "@jupyter-widgets/controls"
          }
        },
        "8723ea06798549be97a5f6b0f5038e4b": {
          "model_module": "@jupyter-widgets/base",
          "model_name": "LayoutModel",
          "state": {
            "_view_name": "LayoutView",
            "grid_template_rows": null,
            "right": null,
            "justify_content": null,
            "_view_module": "@jupyter-widgets/base",
            "overflow": null,
            "_model_module_version": "1.2.0",
            "_view_count": null,
            "flex_flow": null,
            "width": null,
            "min_width": null,
            "border": null,
            "align_items": null,
            "bottom": null,
            "_model_module": "@jupyter-widgets/base",
            "top": null,
            "grid_column": null,
            "overflow_y": null,
            "overflow_x": null,
            "grid_auto_flow": null,
            "grid_area": null,
            "grid_template_columns": null,
            "flex": null,
            "_model_name": "LayoutModel",
            "justify_items": null,
            "grid_row": null,
            "max_height": null,
            "align_content": null,
            "visibility": null,
            "align_self": null,
            "height": null,
            "min_height": null,
            "padding": null,
            "grid_auto_rows": null,
            "grid_gap": null,
            "max_width": null,
            "order": null,
            "_view_module_version": "1.2.0",
            "grid_template_areas": null,
            "object_position": null,
            "object_fit": null,
            "grid_auto_columns": null,
            "margin": null,
            "display": null,
            "left": null
          }
        },
        "cb52cf19f4d843b89d1145a3693bea89": {
          "model_module": "@jupyter-widgets/controls",
          "model_name": "DescriptionStyleModel",
          "state": {
            "_view_name": "StyleView",
            "_model_name": "DescriptionStyleModel",
            "description_width": "",
            "_view_module": "@jupyter-widgets/base",
            "_model_module_version": "1.5.0",
            "_view_count": null,
            "_view_module_version": "1.2.0",
            "_model_module": "@jupyter-widgets/controls"
          }
        },
        "d7ca2a82126f44a690c3136d9a00e51a": {
          "model_module": "@jupyter-widgets/base",
          "model_name": "LayoutModel",
          "state": {
            "_view_name": "LayoutView",
            "grid_template_rows": null,
            "right": null,
            "justify_content": null,
            "_view_module": "@jupyter-widgets/base",
            "overflow": null,
            "_model_module_version": "1.2.0",
            "_view_count": null,
            "flex_flow": null,
            "width": null,
            "min_width": null,
            "border": null,
            "align_items": null,
            "bottom": null,
            "_model_module": "@jupyter-widgets/base",
            "top": null,
            "grid_column": null,
            "overflow_y": null,
            "overflow_x": null,
            "grid_auto_flow": null,
            "grid_area": null,
            "grid_template_columns": null,
            "flex": null,
            "_model_name": "LayoutModel",
            "justify_items": null,
            "grid_row": null,
            "max_height": null,
            "align_content": null,
            "visibility": null,
            "align_self": null,
            "height": null,
            "min_height": null,
            "padding": null,
            "grid_auto_rows": null,
            "grid_gap": null,
            "max_width": null,
            "order": null,
            "_view_module_version": "1.2.0",
            "grid_template_areas": null,
            "object_position": null,
            "object_fit": null,
            "grid_auto_columns": null,
            "margin": null,
            "display": null,
            "left": null
          }
        },
        "01465ef0886b49da8f5ff99f3b7367fb": {
          "model_module": "@jupyter-widgets/controls",
          "model_name": "HBoxModel",
          "state": {
            "_view_name": "HBoxView",
            "_dom_classes": [],
            "_model_name": "HBoxModel",
            "_view_module": "@jupyter-widgets/controls",
            "_model_module_version": "1.5.0",
            "_view_count": null,
            "_view_module_version": "1.5.0",
            "box_style": "",
            "layout": "IPY_MODEL_55016503ad46451ead74122fe9209123",
            "_model_module": "@jupyter-widgets/controls",
            "children": [
              "IPY_MODEL_8d3ee6f4dbf843f7ba2be9a1412bb60b",
              "IPY_MODEL_97a7c3a2fe7b46fcb21152d1a1bdf445"
            ]
          }
        },
        "55016503ad46451ead74122fe9209123": {
          "model_module": "@jupyter-widgets/base",
          "model_name": "LayoutModel",
          "state": {
            "_view_name": "LayoutView",
            "grid_template_rows": null,
            "right": null,
            "justify_content": null,
            "_view_module": "@jupyter-widgets/base",
            "overflow": null,
            "_model_module_version": "1.2.0",
            "_view_count": null,
            "flex_flow": null,
            "width": null,
            "min_width": null,
            "border": null,
            "align_items": null,
            "bottom": null,
            "_model_module": "@jupyter-widgets/base",
            "top": null,
            "grid_column": null,
            "overflow_y": null,
            "overflow_x": null,
            "grid_auto_flow": null,
            "grid_area": null,
            "grid_template_columns": null,
            "flex": null,
            "_model_name": "LayoutModel",
            "justify_items": null,
            "grid_row": null,
            "max_height": null,
            "align_content": null,
            "visibility": null,
            "align_self": null,
            "height": null,
            "min_height": null,
            "padding": null,
            "grid_auto_rows": null,
            "grid_gap": null,
            "max_width": null,
            "order": null,
            "_view_module_version": "1.2.0",
            "grid_template_areas": null,
            "object_position": null,
            "object_fit": null,
            "grid_auto_columns": null,
            "margin": null,
            "display": null,
            "left": null
          }
        },
        "8d3ee6f4dbf843f7ba2be9a1412bb60b": {
          "model_module": "@jupyter-widgets/controls",
          "model_name": "IntProgressModel",
          "state": {
            "_view_name": "ProgressView",
            "style": "IPY_MODEL_5bb893515813419ca3d0df2f6b53c3a2",
            "_dom_classes": [],
            "description": "Evaluating",
            "_model_name": "IntProgressModel",
            "bar_style": "success",
            "max": 876,
            "_view_module": "@jupyter-widgets/controls",
            "_model_module_version": "1.5.0",
            "value": 876,
            "_view_count": null,
            "_view_module_version": "1.5.0",
            "orientation": "horizontal",
            "min": 0,
            "description_tooltip": null,
            "_model_module": "@jupyter-widgets/controls",
            "layout": "IPY_MODEL_405b083d1e824ddf96658ac3589cb05b"
          }
        },
        "97a7c3a2fe7b46fcb21152d1a1bdf445": {
          "model_module": "@jupyter-widgets/controls",
          "model_name": "HTMLModel",
          "state": {
            "_view_name": "HTMLView",
            "style": "IPY_MODEL_80426de3044049048d3518d872412b33",
            "_dom_classes": [],
            "description": "",
            "_model_name": "HTMLModel",
            "placeholder": "​",
            "_view_module": "@jupyter-widgets/controls",
            "_model_module_version": "1.5.0",
            "value": "100% 876/876 [02:01&lt;00:00,  7.23it/s]",
            "_view_count": null,
            "_view_module_version": "1.5.0",
            "description_tooltip": null,
            "_model_module": "@jupyter-widgets/controls",
            "layout": "IPY_MODEL_e66ad0b5ecc343e8a0fd106b5ed0f50c"
          }
        },
        "5bb893515813419ca3d0df2f6b53c3a2": {
          "model_module": "@jupyter-widgets/controls",
          "model_name": "ProgressStyleModel",
          "state": {
            "_view_name": "StyleView",
            "_model_name": "ProgressStyleModel",
            "description_width": "initial",
            "_view_module": "@jupyter-widgets/base",
            "_model_module_version": "1.5.0",
            "_view_count": null,
            "_view_module_version": "1.2.0",
            "bar_color": null,
            "_model_module": "@jupyter-widgets/controls"
          }
        },
        "405b083d1e824ddf96658ac3589cb05b": {
          "model_module": "@jupyter-widgets/base",
          "model_name": "LayoutModel",
          "state": {
            "_view_name": "LayoutView",
            "grid_template_rows": null,
            "right": null,
            "justify_content": null,
            "_view_module": "@jupyter-widgets/base",
            "overflow": null,
            "_model_module_version": "1.2.0",
            "_view_count": null,
            "flex_flow": null,
            "width": null,
            "min_width": null,
            "border": null,
            "align_items": null,
            "bottom": null,
            "_model_module": "@jupyter-widgets/base",
            "top": null,
            "grid_column": null,
            "overflow_y": null,
            "overflow_x": null,
            "grid_auto_flow": null,
            "grid_area": null,
            "grid_template_columns": null,
            "flex": null,
            "_model_name": "LayoutModel",
            "justify_items": null,
            "grid_row": null,
            "max_height": null,
            "align_content": null,
            "visibility": null,
            "align_self": null,
            "height": null,
            "min_height": null,
            "padding": null,
            "grid_auto_rows": null,
            "grid_gap": null,
            "max_width": null,
            "order": null,
            "_view_module_version": "1.2.0",
            "grid_template_areas": null,
            "object_position": null,
            "object_fit": null,
            "grid_auto_columns": null,
            "margin": null,
            "display": null,
            "left": null
          }
        },
        "80426de3044049048d3518d872412b33": {
          "model_module": "@jupyter-widgets/controls",
          "model_name": "DescriptionStyleModel",
          "state": {
            "_view_name": "StyleView",
            "_model_name": "DescriptionStyleModel",
            "description_width": "",
            "_view_module": "@jupyter-widgets/base",
            "_model_module_version": "1.5.0",
            "_view_count": null,
            "_view_module_version": "1.2.0",
            "_model_module": "@jupyter-widgets/controls"
          }
        },
        "e66ad0b5ecc343e8a0fd106b5ed0f50c": {
          "model_module": "@jupyter-widgets/base",
          "model_name": "LayoutModel",
          "state": {
            "_view_name": "LayoutView",
            "grid_template_rows": null,
            "right": null,
            "justify_content": null,
            "_view_module": "@jupyter-widgets/base",
            "overflow": null,
            "_model_module_version": "1.2.0",
            "_view_count": null,
            "flex_flow": null,
            "width": null,
            "min_width": null,
            "border": null,
            "align_items": null,
            "bottom": null,
            "_model_module": "@jupyter-widgets/base",
            "top": null,
            "grid_column": null,
            "overflow_y": null,
            "overflow_x": null,
            "grid_auto_flow": null,
            "grid_area": null,
            "grid_template_columns": null,
            "flex": null,
            "_model_name": "LayoutModel",
            "justify_items": null,
            "grid_row": null,
            "max_height": null,
            "align_content": null,
            "visibility": null,
            "align_self": null,
            "height": null,
            "min_height": null,
            "padding": null,
            "grid_auto_rows": null,
            "grid_gap": null,
            "max_width": null,
            "order": null,
            "_view_module_version": "1.2.0",
            "grid_template_areas": null,
            "object_position": null,
            "object_fit": null,
            "grid_auto_columns": null,
            "margin": null,
            "display": null,
            "left": null
          }
        }
      }
    }
  },
  "cells": [
    {
      "cell_type": "code",
      "metadata": {
        "id": "qTazDAxn2ybu",
        "colab_type": "code",
        "outputId": "dd3ca2b2-0a69-4b1b-d4ab-5af3be184eb9",
        "colab": {
          "base_uri": "https://localhost:8080/",
          "height": 122
        }
      },
      "source": [
        "from google.colab import drive\n",
        "drive.mount(\"/content/drive\",force_remount=True)"
      ],
      "execution_count": 0,
      "outputs": [
        {
          "output_type": "stream",
          "text": [
            "Go to this URL in a browser: https://accounts.google.com/o/oauth2/auth?client_id=947318989803-6bn6qk8qdgf4n4g3pfee6491hc0brc4i.apps.googleusercontent.com&redirect_uri=urn%3aietf%3awg%3aoauth%3a2.0%3aoob&response_type=code&scope=email%20https%3a%2f%2fwww.googleapis.com%2fauth%2fdocs.test%20https%3a%2f%2fwww.googleapis.com%2fauth%2fdrive%20https%3a%2f%2fwww.googleapis.com%2fauth%2fdrive.photos.readonly%20https%3a%2f%2fwww.googleapis.com%2fauth%2fpeopleapi.readonly\n",
            "\n",
            "Enter your authorization code:\n",
            "··········\n",
            "Mounted at /content/drive\n"
          ],
          "name": "stdout"
        }
      ]
    },
    {
      "cell_type": "code",
      "metadata": {
        "id": "3TsN1UtJ225F",
        "colab_type": "code",
        "outputId": "28072bb0-7c44-4e59-cf62-d755b4ae4869",
        "colab": {
          "base_uri": "https://localhost:8080/",
          "height": 34
        }
      },
      "source": [
        "cd /content/drive/My\\ Drive/NLP_project"
      ],
      "execution_count": 0,
      "outputs": [
        {
          "output_type": "stream",
          "text": [
            "/content/drive/My Drive/NLP_project\n"
          ],
          "name": "stdout"
        }
      ]
    },
    {
      "cell_type": "markdown",
      "metadata": {
        "id": "Z-QI48oV0ktB",
        "colab_type": "text"
      },
      "source": [
        "pre installation"
      ]
    },
    {
      "cell_type": "code",
      "metadata": {
        "id": "Y9U6bJxJE31k",
        "colab_type": "code",
        "outputId": "a6a2d2c0-d0af-4739-8c05-4d02e50585fb",
        "colab": {
          "base_uri": "https://localhost:8080/",
          "height": 782
        }
      },
      "source": [
        "!pip install pytorch_pretrained_bert\n",
        "!pip install tools"
      ],
      "execution_count": 0,
      "outputs": [
        {
          "output_type": "stream",
          "text": [
            "Collecting pytorch_pretrained_bert\n",
            "\u001b[?25l  Downloading https://files.pythonhosted.org/packages/d7/e0/c08d5553b89973d9a240605b9c12404bcf8227590de62bae27acbcfe076b/pytorch_pretrained_bert-0.6.2-py3-none-any.whl (123kB)\n",
            "\r\u001b[K     |██▋                             | 10kB 25.2MB/s eta 0:00:01\r\u001b[K     |█████▎                          | 20kB 1.7MB/s eta 0:00:01\r\u001b[K     |████████                        | 30kB 2.5MB/s eta 0:00:01\r\u001b[K     |██████████▋                     | 40kB 1.7MB/s eta 0:00:01\r\u001b[K     |█████████████▎                  | 51kB 2.1MB/s eta 0:00:01\r\u001b[K     |███████████████▉                | 61kB 2.5MB/s eta 0:00:01\r\u001b[K     |██████████████████▌             | 71kB 2.9MB/s eta 0:00:01\r\u001b[K     |█████████████████████▏          | 81kB 3.3MB/s eta 0:00:01\r\u001b[K     |███████████████████████▉        | 92kB 3.7MB/s eta 0:00:01\r\u001b[K     |██████████████████████████▌     | 102kB 2.8MB/s eta 0:00:01\r\u001b[K     |█████████████████████████████▏  | 112kB 2.8MB/s eta 0:00:01\r\u001b[K     |███████████████████████████████▊| 122kB 2.8MB/s eta 0:00:01\r\u001b[K     |████████████████████████████████| 133kB 2.8MB/s \n",
            "\u001b[?25hRequirement already satisfied: numpy in /usr/local/lib/python3.6/dist-packages (from pytorch_pretrained_bert) (1.17.4)\n",
            "Requirement already satisfied: requests in /usr/local/lib/python3.6/dist-packages (from pytorch_pretrained_bert) (2.21.0)\n",
            "Requirement already satisfied: tqdm in /usr/local/lib/python3.6/dist-packages (from pytorch_pretrained_bert) (4.28.1)\n",
            "Collecting regex\n",
            "\u001b[?25l  Downloading https://files.pythonhosted.org/packages/8c/db/4b29a0adec5881542cd81cb5d1929b5c0787003c5740b3c921e627d9c2e5/regex-2019.12.9.tar.gz (669kB)\n",
            "\u001b[K     |████████████████████████████████| 675kB 8.5MB/s \n",
            "\u001b[?25hRequirement already satisfied: boto3 in /usr/local/lib/python3.6/dist-packages (from pytorch_pretrained_bert) (1.10.32)\n",
            "Requirement already satisfied: torch>=0.4.1 in /usr/local/lib/python3.6/dist-packages (from pytorch_pretrained_bert) (1.3.1)\n",
            "Requirement already satisfied: idna<2.9,>=2.5 in /usr/local/lib/python3.6/dist-packages (from requests->pytorch_pretrained_bert) (2.8)\n",
            "Requirement already satisfied: certifi>=2017.4.17 in /usr/local/lib/python3.6/dist-packages (from requests->pytorch_pretrained_bert) (2019.11.28)\n",
            "Requirement already satisfied: urllib3<1.25,>=1.21.1 in /usr/local/lib/python3.6/dist-packages (from requests->pytorch_pretrained_bert) (1.24.3)\n",
            "Requirement already satisfied: chardet<3.1.0,>=3.0.2 in /usr/local/lib/python3.6/dist-packages (from requests->pytorch_pretrained_bert) (3.0.4)\n",
            "Requirement already satisfied: s3transfer<0.3.0,>=0.2.0 in /usr/local/lib/python3.6/dist-packages (from boto3->pytorch_pretrained_bert) (0.2.1)\n",
            "Requirement already satisfied: botocore<1.14.0,>=1.13.32 in /usr/local/lib/python3.6/dist-packages (from boto3->pytorch_pretrained_bert) (1.13.32)\n",
            "Requirement already satisfied: jmespath<1.0.0,>=0.7.1 in /usr/local/lib/python3.6/dist-packages (from boto3->pytorch_pretrained_bert) (0.9.4)\n",
            "Requirement already satisfied: docutils<0.16,>=0.10 in /usr/local/lib/python3.6/dist-packages (from botocore<1.14.0,>=1.13.32->boto3->pytorch_pretrained_bert) (0.15.2)\n",
            "Requirement already satisfied: python-dateutil<2.8.1,>=2.1; python_version >= \"2.7\" in /usr/local/lib/python3.6/dist-packages (from botocore<1.14.0,>=1.13.32->boto3->pytorch_pretrained_bert) (2.6.1)\n",
            "Requirement already satisfied: six>=1.5 in /usr/local/lib/python3.6/dist-packages (from python-dateutil<2.8.1,>=2.1; python_version >= \"2.7\"->botocore<1.14.0,>=1.13.32->boto3->pytorch_pretrained_bert) (1.12.0)\n",
            "Building wheels for collected packages: regex\n",
            "  Building wheel for regex (setup.py) ... \u001b[?25l\u001b[?25hdone\n",
            "  Created wheel for regex: filename=regex-2019.12.9-cp36-cp36m-linux_x86_64.whl size=609175 sha256=6a9c34770811569473f271e5863c39376536bad2839c5d0693d488eb1f87c19a\n",
            "  Stored in directory: /root/.cache/pip/wheels/0d/fb/b3/a89169557229468c49ca64f6839418f22461f6ee0a74f342b1\n",
            "Successfully built regex\n",
            "Installing collected packages: regex, pytorch-pretrained-bert\n",
            "Successfully installed pytorch-pretrained-bert-0.6.2 regex-2019.12.9\n",
            "Collecting tools\n",
            "  Downloading https://files.pythonhosted.org/packages/de/20/2a2dddb083fd0ce56b453cf016768b2c49f3c0194090500f78865b7d110c/tools-0.1.9.tar.gz\n",
            "Collecting pytils\n",
            "\u001b[?25l  Downloading https://files.pythonhosted.org/packages/c6/c1/12b556b5bb393ce5130d57af862d045f57fee764797c0fe837e49cb2a5da/pytils-0.3.tar.gz (89kB)\n",
            "\u001b[K     |████████████████████████████████| 92kB 4.9MB/s \n",
            "\u001b[?25hRequirement already satisfied: six in /usr/local/lib/python3.6/dist-packages (from tools) (1.12.0)\n",
            "Requirement already satisfied: lxml in /usr/local/lib/python3.6/dist-packages (from tools) (4.2.6)\n",
            "Building wheels for collected packages: tools, pytils\n",
            "  Building wheel for tools (setup.py) ... \u001b[?25l\u001b[?25hdone\n",
            "  Created wheel for tools: filename=tools-0.1.9-cp36-none-any.whl size=46759 sha256=5518dc487a07fee0b5cae848f8eb8e677074379ad199a052fea04f0fe4f12b10\n",
            "  Stored in directory: /root/.cache/pip/wheels/87/67/9b/1ca7dcb0b9ebfdc23a00c85a0644abb6fb14f9159a0df8e067\n",
            "  Building wheel for pytils (setup.py) ... \u001b[?25l\u001b[?25hdone\n",
            "  Created wheel for pytils: filename=pytils-0.3-cp36-none-any.whl size=40357 sha256=fb6ebb150dfea214f3bdb9587fc7f1f47c735a713690060083ddb433ae731f82\n",
            "  Stored in directory: /root/.cache/pip/wheels/d6/f9/dc/4f07d8ee40d9cfca9973b3f4aeff99d0bb69900e5f3dffbf32\n",
            "Successfully built tools pytils\n",
            "Installing collected packages: pytils, tools\n",
            "Successfully installed pytils-0.3 tools-0.1.9\n"
          ],
          "name": "stdout"
        }
      ]
    },
    {
      "cell_type": "code",
      "metadata": {
        "id": "ekjnkilJEtRY",
        "colab_type": "code",
        "outputId": "c074f50d-79de-4a8b-edad-a3634395b359",
        "colab": {
          "base_uri": "https://localhost:8080/",
          "height": 119
        }
      },
      "source": [
        "import nltk\n",
        "nltk.download('punkt')\n",
        "nltk.download('averaged_perceptron_tagger')"
      ],
      "execution_count": 0,
      "outputs": [
        {
          "output_type": "stream",
          "text": [
            "[nltk_data] Downloading package punkt to /root/nltk_data...\n",
            "[nltk_data]   Unzipping tokenizers/punkt.zip.\n",
            "[nltk_data] Downloading package averaged_perceptron_tagger to\n",
            "[nltk_data]     /root/nltk_data...\n",
            "[nltk_data]   Unzipping taggers/averaged_perceptron_tagger.zip.\n"
          ],
          "name": "stdout"
        },
        {
          "output_type": "execute_result",
          "data": {
            "text/plain": [
              "True"
            ]
          },
          "metadata": {
            "tags": []
          },
          "execution_count": 4
        }
      ]
    },
    {
      "cell_type": "code",
      "metadata": {
        "id": "mgX1Wt8I2bRh",
        "colab_type": "code",
        "outputId": "584e6742-417e-48cc-a5bf-b31e88452941",
        "colab": {
          "base_uri": "https://localhost:8080/",
          "height": 85
        }
      },
      "source": [
        "!pip install fuzzywuzzy"
      ],
      "execution_count": 0,
      "outputs": [
        {
          "output_type": "stream",
          "text": [
            "Collecting fuzzywuzzy\n",
            "  Downloading https://files.pythonhosted.org/packages/d8/f1/5a267addb30ab7eaa1beab2b9323073815da4551076554ecc890a3595ec9/fuzzywuzzy-0.17.0-py2.py3-none-any.whl\n",
            "Installing collected packages: fuzzywuzzy\n",
            "Successfully installed fuzzywuzzy-0.17.0\n"
          ],
          "name": "stdout"
        }
      ]
    },
    {
      "cell_type": "markdown",
      "metadata": {
        "id": "TQ0R3BmMDNgj",
        "colab_type": "text"
      },
      "source": [
        "Macthing algorithm to extract menu items from reviews,\n",
        "Takes ~6 hours, we have already generated the file using this code named as quadruples.csv, you can directly load that file as shown in the next section"
      ]
    },
    {
      "cell_type": "code",
      "metadata": {
        "id": "8bL44usZ3HQS",
        "colab_type": "code",
        "colab": {}
      },
      "source": [
        "import json\n",
        "import re, string, timeit\n",
        "import nltk\n",
        "import time\n",
        "import sys\n",
        "from fuzzywuzzy import fuzz\n",
        "from fuzzywuzzy import process\n",
        "\n",
        "def matching_function(menu, text):\n",
        "    if len(text) <= 5:\n",
        "        return\n",
        "    translator=str.maketrans('','',string.punctuation)\n",
        "    found_items = set()\n",
        "    ltext = text.lower()\n",
        "    ltext = (text.rstrip()).translate(translator)\n",
        "    # exact matching\n",
        "    for menu_item in menu:\n",
        "        lmenu_item = menu_item.lower()\n",
        "        if lmenu_item in ltext:\n",
        "            yield menu_item, text\n",
        "            found_items.add(menu_item)\n",
        "\n",
        "    # if we already found more than two items let's stop searching\n",
        "    if len(found_items) > 2:\n",
        "        return\n",
        "\n",
        "    # partial matching\n",
        "    rest_items = [i for i in menu if i not in found_items]\n",
        "    ext1 = process.extract(ltext, rest_items, scorer=fuzz.partial_ratio, limit=5)\n",
        "    ext2 = process.extract(ltext, rest_items, scorer=fuzz.token_set_ratio, limit=5)\n",
        "\n",
        "    ext1 = set(map(lambda x: x[0], filter(lambda x: x[1] > 80, ext1)))\n",
        "    ext2 = set(map(lambda x: x[0], filter(lambda x: x[1] > 40, ext2)))\n",
        "\n",
        "    ext = ext1.intersection(ext2)\n",
        "\n",
        "    for menu_item in ext:\n",
        "        yield menu_item, text\n",
        "\n",
        "\n",
        "def get_file(reviews_file, menus_file):\n",
        "\n",
        "    with open(reviews_file, 'r') as f:\n",
        "        reviews = json.load(f)\n",
        "\n",
        "    with open(menus_file, 'r') as f:\n",
        "        menus = json.load(f)\n",
        "\n",
        "    menus_by_restaurant = dict()\n",
        "    restaurants = set()\n",
        "    for m in menus:\n",
        "        rid = m['restaurant_id']\n",
        "        restaurants.add(rid)\n",
        "        menus_by_restaurant.setdefault(rid, set())\n",
        "        menus_by_restaurant[rid].add(m['name'])\n",
        "\n",
        "    translator=str.maketrans('','',string.punctuation)\n",
        "    sent_tokenizer = nltk.data.load('tokenizers/punkt/english.pickle')\n",
        "    reviews = list(filter(lambda r: r['restaurant_id'] in restaurants, reviews))\n",
        "    count = 0.0\n",
        "    n_reviews = len(reviews)\n",
        "\n",
        "    for review in reviews:\n",
        "        count += 1\n",
        "\n",
        "        rtext = (review['review_text'].rstrip()).translate(translator)\n",
        "        rid = review['restaurant_id']\n",
        "        rating = review['review_rating']\n",
        "        menu = menus_by_restaurant[rid]\n",
        "        for sent in sent_tokenizer.tokenize(rtext):\n",
        "            for menu_item, text in matching_function(menu, sent):\n",
        "                yield rid, menu_item, text, rating\n",
        "\n",
        "\n",
        "\n",
        "def main():\n",
        "    reviews_file = \"reviews.json\"\n",
        "    menus_file = \"menus.json\"\n",
        "    \n",
        "    get_file(reviews_file, menus_file)\n",
        "\n",
        "    f = open('quadruples.csv', 'w')\n",
        "    f.write('restaurant_id,menu_item,text,rating,\\n')\n",
        "    count = 0\n",
        "    print(\"Working on it...Please wait...\")\n",
        "    \n",
        "    for restaurant, menu_item, review_text, rating in get_file(reviews_file, menus_file):\n",
        "        f.write('{},{},{},{},\\n'.format(restaurant, menu_item, review_text, rating))\n",
        "        count += 1\n",
        "    f.close()\n",
        "\n",
        "if __name__ == '__main__':\n",
        "    main()"
      ],
      "execution_count": 0,
      "outputs": []
    },
    {
      "cell_type": "markdown",
      "metadata": {
        "id": "XxE-HqLu-KKH",
        "colab_type": "text"
      },
      "source": [
        "Feature engineering and performance with classifier models\n",
        "\n",
        "\n",
        "\n"
      ]
    },
    {
      "cell_type": "markdown",
      "metadata": {
        "id": "wSbi1P0b-bxm",
        "colab_type": "text"
      },
      "source": [
        "Load all the libraries required"
      ]
    },
    {
      "cell_type": "code",
      "metadata": {
        "id": "3t5d_mbo3RSK",
        "colab_type": "code",
        "outputId": "4e44d64b-7996-4e90-a1e3-0f03d0cc75e8",
        "colab": {
          "base_uri": "https://localhost:8080/",
          "height": 80
        }
      },
      "source": [
        "#nltk.download('wordnet')\n",
        "%matplotlib inline\n",
        "from bokeh.io import output_file, output_notebook, show\n",
        "from bokeh.models import (GMapPlot, GMapOptions, ColumnDataSource, Circle, LogColorMapper,\n",
        "                          BasicTicker, ColorBar,DataRange1d, PanTool, Range1d, WheelZoomTool, BoxSelectTool)\n",
        "from bokeh.models.mappers import ColorMapper, LinearColorMapper\n",
        "from bokeh.palettes import Viridis5\n",
        "from bokeh.resources import INLINE\n",
        "from collections import defaultdict\n",
        "from keras import layers, models, optimizers\n",
        "from keras.layers import Dense, Dropout, Activation\n",
        "from keras.models import Sequential\n",
        "from keras.optimizers import SGD\n",
        "from keras.preprocessing import text, sequence\n",
        "from keras.preprocessing.sequence import pad_sequences\n",
        "from keras.preprocessing.text import Tokenizer\n",
        "from keras.utils import to_categorical\n",
        "from matplotlib.colors import ListedColormap\n",
        "from nltk import pos_tag, pos_tag_sents\n",
        "from nltk import sent_tokenize, word_tokenize, pos_tag\n",
        "from nltk.classify import ClassifierI\n",
        "from nltk.classify.scikitlearn import SklearnClassifier\n",
        "from nltk.corpus import sentiwordnet as swn\n",
        "from nltk.corpus import wordnet as wn\n",
        "from nltk.stem import PorterStemmer, WordNetLemmatizer\n",
        "from nltk.stem import WordNetLemmatizer\n",
        "from nltk.stem.wordnet import WordNetLemmatizer\n",
        "from nltk.tokenize import sent_tokenize, word_tokenize\n",
        "from nltk.tokenize import word_tokenize\n",
        "from sklearn import decomposition, ensemble\n",
        "from sklearn import model_selection, preprocessing, linear_model, naive_bayes, metrics, svm\n",
        "from sklearn import svm\n",
        "from sklearn import tree\n",
        "from sklearn.feature_extraction.text import CountVectorizer\n",
        "from sklearn.feature_extraction.text import TfidfVectorizer\n",
        "from sklearn.feature_extraction.text import TfidfVectorizer, CountVectorizer\n",
        "from sklearn.linear_model import LogisticRegression\n",
        "from sklearn.linear_model import LogisticRegression, SGDClassifier\n",
        "from sklearn.metrics import accuracy_score\n",
        "from sklearn.metrics import confusion_matrix, classification_report\n",
        "from sklearn.metrics import confusion_matrix, roc_auc_score\n",
        "from sklearn.model_selection import train_test_split\n",
        "from sklearn.naive_bayes import GaussianNB\n",
        "from sklearn.naive_bayes import MultinomialNB\n",
        "from sklearn.naive_bayes import MultinomialNB, BernoulliNB\n",
        "from sklearn.neighbors import KNeighborsClassifier\n",
        "from sklearn.neural_network import MLPClassifier\n",
        "from sklearn.preprocessing import StandardScaler\n",
        "from sklearn.svm import SVC, LinearSVC, NuSVC\n",
        "from statistics import mode\n",
        "import bokeh.io\n",
        "import itertools\n",
        "import matplotlib.pyplot as plt\n",
        "import nltk\n",
        "import numpy as np\n",
        "import os\n",
        "import pandas as pd\n",
        "import pandas, xgboost, numpy, textblob, string\n",
        "import pickle\n",
        "import random\n",
        "import re\n",
        "import seaborn as sns\n",
        "import tensorflow as tf\n",
        "import keras\n",
        "from keras.preprocessing.text import Tokenizer\n",
        "from keras.preprocessing.sequence import pad_sequences\n",
        "from keras.utils import to_categorical\n",
        "from keras.models import Sequential\n",
        "from keras.layers import Dense, Embedding, GRU, Dropout, Bidirectional, SpatialDropout1D\n",
        "from keras.layers import Bidirectional, GlobalMaxPool1D,Conv1D\n",
        "from keras.layers import Dense, Input, LSTM, Embedding, Dropout, Activation\n",
        "from keras.models import Model\n",
        "from keras.models import Sequential\n",
        "from keras.layers import Dense, Embedding, GRU, Dropout, Bidirectional, SpatialDropout1D\n",
        "from keras.applications.inception_v3 import decode_predictions"
      ],
      "execution_count": 0,
      "outputs": [
        {
          "output_type": "stream",
          "text": [
            "Using TensorFlow backend.\n"
          ],
          "name": "stderr"
        },
        {
          "output_type": "display_data",
          "data": {
            "text/html": [
              "<p style=\"color: red;\">\n",
              "The default version of TensorFlow in Colab will soon switch to TensorFlow 2.x.<br>\n",
              "We recommend you <a href=\"https://www.tensorflow.org/guide/migrate\" target=\"_blank\">upgrade</a> now \n",
              "or ensure your notebook will continue to use TensorFlow 1.x via the <code>%tensorflow_version 1.x</code> magic:\n",
              "<a href=\"https://colab.research.google.com/notebooks/tensorflow_version.ipynb\" target=\"_blank\">more info</a>.</p>\n"
            ],
            "text/plain": [
              "<IPython.core.display.HTML object>"
            ]
          },
          "metadata": {
            "tags": []
          }
        }
      ]
    },
    {
      "cell_type": "markdown",
      "metadata": {
        "id": "0Rop4pHITJPO",
        "colab_type": "text"
      },
      "source": [
        "Load the file generated after performing named entity recognition"
      ]
    },
    {
      "cell_type": "code",
      "metadata": {
        "id": "dGwbWJb83PwY",
        "colab_type": "code",
        "colab": {}
      },
      "source": [
        "dataset = pd.read_csv('quadruples.csv')"
      ],
      "execution_count": 0,
      "outputs": []
    },
    {
      "cell_type": "code",
      "metadata": {
        "id": "MzIlmcusax6n",
        "colab_type": "code",
        "outputId": "4ec37f4c-ab11-4cb5-fe90-3de08aaa75a4",
        "colab": {
          "base_uri": "https://localhost:8080/",
          "height": 111
        }
      },
      "source": [
        "dataset.head(2)"
      ],
      "execution_count": 0,
      "outputs": [
        {
          "output_type": "execute_result",
          "data": {
            "text/html": [
              "<div>\n",
              "<style scoped>\n",
              "    .dataframe tbody tr th:only-of-type {\n",
              "        vertical-align: middle;\n",
              "    }\n",
              "\n",
              "    .dataframe tbody tr th {\n",
              "        vertical-align: top;\n",
              "    }\n",
              "\n",
              "    .dataframe thead th {\n",
              "        text-align: right;\n",
              "    }\n",
              "</style>\n",
              "<table border=\"1\" class=\"dataframe\">\n",
              "  <thead>\n",
              "    <tr style=\"text-align: right;\">\n",
              "      <th></th>\n",
              "      <th>restaurant_id</th>\n",
              "      <th>menu_item</th>\n",
              "      <th>text</th>\n",
              "      <th>rating</th>\n",
              "    </tr>\n",
              "  </thead>\n",
              "  <tbody>\n",
              "    <tr>\n",
              "      <th>0</th>\n",
              "      <td>submerge-sandwich-los-angeles</td>\n",
              "      <td>Lemon Herb Chicken Sandwich</td>\n",
              "      <td>The lemon herb chicken sandwich  What is in it...</td>\n",
              "      <td>5</td>\n",
              "    </tr>\n",
              "    <tr>\n",
              "      <th>1</th>\n",
              "      <td>submerge-sandwich-los-angeles</td>\n",
              "      <td>Tuna Sandwich</td>\n",
              "      <td>Such a great little gem  Was in LA on a busine...</td>\n",
              "      <td>5</td>\n",
              "    </tr>\n",
              "  </tbody>\n",
              "</table>\n",
              "</div>"
            ],
            "text/plain": [
              "                   restaurant_id  ... rating\n",
              "0  submerge-sandwich-los-angeles  ...      5\n",
              "1  submerge-sandwich-los-angeles  ...      5\n",
              "\n",
              "[2 rows x 4 columns]"
            ]
          },
          "metadata": {
            "tags": []
          },
          "execution_count": 5
        }
      ]
    },
    {
      "cell_type": "markdown",
      "metadata": {
        "id": "yClqeQGmObLE",
        "colab_type": "text"
      },
      "source": [
        "labelling data"
      ]
    },
    {
      "cell_type": "code",
      "metadata": {
        "id": "dGm5NTMf3Y3H",
        "colab_type": "code",
        "colab": {}
      },
      "source": [
        "#labeling\n",
        "sentiment = []\n",
        "i = 0\n",
        "for i in range(len(pd.Series.to_list(dataset['rating']))):\n",
        "    if dataset['rating'][i] < 3:\n",
        "        sentiment.append(0)\n",
        "    else:\n",
        "        sentiment.append(1)\n",
        "dataset['sentiment'] = sentiment"
      ],
      "execution_count": 0,
      "outputs": []
    },
    {
      "cell_type": "markdown",
      "metadata": {
        "id": "cPT8xehaOd9-",
        "colab_type": "text"
      },
      "source": [
        "splitting to test and train set"
      ]
    },
    {
      "cell_type": "code",
      "metadata": {
        "id": "c7DIN4my-G_s",
        "colab_type": "code",
        "colab": {}
      },
      "source": [
        "train_x, class_x, test_y, class_y = model_selection.train_test_split(dataset['text'], dataset['sentiment'])\n",
        "\n",
        "# perform label encoding\n",
        "enc = preprocessing.LabelEncoder()\n",
        "test_y = enc.fit_transform(test_y)\n",
        "class_y = enc.fit_transform(class_y)"
      ],
      "execution_count": 0,
      "outputs": []
    },
    {
      "cell_type": "markdown",
      "metadata": {
        "id": "SFVgDyUYOhJl",
        "colab_type": "text"
      },
      "source": [
        "Feature engineering"
      ]
    },
    {
      "cell_type": "code",
      "metadata": {
        "id": "dnm2h_OkJd6g",
        "colab_type": "code",
        "colab": {}
      },
      "source": [
        "#feature engineering\n",
        "\n",
        "#count vectors\n",
        "count_vectors = CountVectorizer(analyzer='word', token_pattern=r'\\w{1,}')\n",
        "count_vectors.fit(dataset['text'])\n",
        "cv_train_set =  count_vectors.transform(train_x)\n",
        "cv_train_label =  count_vectors.transform(class_x)\n",
        "\n",
        "#word level tf-idf features\n",
        "word_level = TfidfVectorizer(analyzer='word', token_pattern=r'\\w{1,}', max_features=100)\n",
        "word_level.fit(dataset['text'])\n",
        "word_level_train_set =  word_level.transform(train_x)\n",
        "word_level_label =  word_level.transform(class_x)\n",
        "\n",
        "#n-gram level tf-idf features\n",
        "ngram_level = TfidfVectorizer(analyzer='word', token_pattern=r'\\w{1,}', ngram_range=(2,3), max_features=100)\n",
        "ngram_level.fit(dataset['text'])\n",
        "ngram_level_train_set =  ngram_level.transform(train_x)\n",
        "ngram_level_label =  ngram_level.transform(class_x)\n",
        "\n",
        "#char level tf-idf features\n",
        "char_level = TfidfVectorizer(analyzer='char', token_pattern=r'\\w{1,}', ngram_range=(2,3), max_features=100)\n",
        "char_level.fit(dataset['text'])\n",
        "char_level_train_set =  char_level.transform(train_x) \n",
        "char_level_label =  char_level.transform(class_x)"
      ],
      "execution_count": 0,
      "outputs": []
    },
    {
      "cell_type": "markdown",
      "metadata": {
        "id": "E1RIUHqg30Hk",
        "colab_type": "text"
      },
      "source": [
        "Classifier training and prediction function"
      ]
    },
    {
      "cell_type": "code",
      "metadata": {
        "id": "d2frwRr_Jt9l",
        "colab_type": "code",
        "colab": {}
      },
      "source": [
        "#training models\n",
        "def train_model(classifier, train_set, test_set, train_labels):\n",
        "    clf = classifier\n",
        "    clf = clf.fit(train_set, test_set)        \n",
        "    predictions = classifier.predict(train_labels)\n",
        "    accuracy = metrics.accuracy_score(predictions, class_y)\n",
        "    precision = metrics.precision_score(predictions,class_y)\n",
        "    recall = metrics.recall_score(predictions,class_y)\n",
        "    f1 = metrics.f1_score(predictions,class_y,labels=np.unique(class_y))\n",
        "    if (1 in predictions) and (0 in predictions):\n",
        "        roc_score = metrics.roc_auc_score(predictions,class_y)\n",
        "    else:\n",
        "        roc_score = None\n",
        "    mean_sq_error = metrics.mean_squared_error(predictions,class_y)\n",
        "    mean_abs_error = metrics.mean_absolute_error(predictions,class_y)\n",
        "    return accuracy, precision, recall, f1, roc_score, mean_sq_error, mean_abs_error, predictions"
      ],
      "execution_count": 0,
      "outputs": []
    },
    {
      "cell_type": "code",
      "metadata": {
        "id": "fGmIgtBC36eN",
        "colab_type": "code",
        "colab": {}
      },
      "source": [
        "feature_dict = {'count_vector':[cv_train_set,cv_train_label],'word_level':[word_level_train_set,word_level_label],'ngram_level':[ngram_level_train_set,ngram_level_label],'char_level':[char_level_train_set,char_level_label]}\n",
        "classifier_models = {'naive_bayes': naive_bayes.MultinomialNB(),'decision_tree':tree.DecisionTreeClassifier(max_depth = 5),'logistic_regression':LogisticRegression()}"
      ],
      "execution_count": 0,
      "outputs": []
    },
    {
      "cell_type": "markdown",
      "metadata": {
        "id": "0Cql2Wab3-Ev",
        "colab_type": "text"
      },
      "source": [
        "Classifier performance output"
      ]
    },
    {
      "cell_type": "code",
      "metadata": {
        "id": "99kehiTQVmSH",
        "colab_type": "code",
        "outputId": "7e47cdaf-20bc-4a33-a752-b70a01337e44",
        "colab": {
          "base_uri": "https://localhost:8080/",
          "height": 2499
        }
      },
      "source": [
        "for i in classifier_models:\n",
        "    for j in feature_dict:\n",
        "        print(i,'evaluation with',j,'features')\n",
        "        accuracy, precision, recall, f1, roc_score, mean_sq_error, mean_abs_error, predictions = train_model(classifier_models[i], feature_dict[j][0], test_y, feature_dict[j][1])\n",
        "        print (\"accuracy:\", accuracy,\"precision:\",precision,\"recall:\",recall,\"f1-score:\",f1,\"roc_score:\",roc_score,\"mean squared error:\",mean_sq_error,\"mean absolute error:\",mean_abs_error)\n",
        "        print (\"Confusion matrix: \", classification_report(class_y, predictions))"
      ],
      "execution_count": 0,
      "outputs": [
        {
          "output_type": "stream",
          "text": [
            "naive_bayes evaluation with count_vector features\n",
            "accuracy: 0.9496206460512703 precision: 0.9827421492187741 recall: 0.9639380932229007 f1-score: 0.9732493018571363 roc_score: 0.8186084865181015 mean squared error: 0.05037935394872974 mean absolute error: 0.05037935394872974\n",
            "Confusion matrix:                precision    recall  f1-score   support\n",
            "\n",
            "           0       0.67      0.49      0.57      2347\n",
            "           1       0.96      0.98      0.97     32449\n",
            "\n",
            "    accuracy                           0.95     34796\n",
            "   macro avg       0.82      0.74      0.77     34796\n",
            "weighted avg       0.94      0.95      0.95     34796\n",
            "\n",
            "naive_bayes evaluation with word_level features\n",
            "accuracy: 0.932549718358432 precision: 1.0 recall: 0.932549718358432 f1-score: 0.9650977767863781 roc_score: None mean squared error: 0.067450281641568 mean absolute error: 0.067450281641568\n",
            "Confusion matrix:                precision    recall  f1-score   support\n",
            "\n",
            "           0       0.00      0.00      0.00      2347\n",
            "           1       0.93      1.00      0.97     32449\n",
            "\n",
            "    accuracy                           0.93     34796\n",
            "   macro avg       0.47      0.50      0.48     34796\n",
            "weighted avg       0.87      0.93      0.90     34796\n",
            "\n",
            "naive_bayes evaluation with ngram_level features\n"
          ],
          "name": "stdout"
        },
        {
          "output_type": "stream",
          "text": [
            "/usr/local/lib/python3.6/dist-packages/sklearn/metrics/classification.py:1437: UndefinedMetricWarning: Precision and F-score are ill-defined and being set to 0.0 in labels with no predicted samples.\n",
            "  'precision', 'predicted', average, warn_for)\n",
            "/usr/local/lib/python3.6/dist-packages/sklearn/metrics/classification.py:1437: UndefinedMetricWarning: Precision and F-score are ill-defined and being set to 0.0 in labels with no predicted samples.\n",
            "  'precision', 'predicted', average, warn_for)\n"
          ],
          "name": "stderr"
        },
        {
          "output_type": "stream",
          "text": [
            "accuracy: 0.932549718358432 precision: 1.0 recall: 0.932549718358432 f1-score: 0.9650977767863781 roc_score: None mean squared error: 0.067450281641568 mean absolute error: 0.067450281641568\n",
            "Confusion matrix:                precision    recall  f1-score   support\n",
            "\n",
            "           0       0.00      0.00      0.00      2347\n",
            "           1       0.93      1.00      0.97     32449\n",
            "\n",
            "    accuracy                           0.93     34796\n",
            "   macro avg       0.47      0.50      0.48     34796\n",
            "weighted avg       0.87      0.93      0.90     34796\n",
            "\n",
            "naive_bayes evaluation with char_level features\n",
            "accuracy: 0.932549718358432 precision: 1.0 recall: 0.932549718358432 f1-score: 0.9650977767863781 roc_score: None mean squared error: 0.067450281641568 mean absolute error: 0.067450281641568\n"
          ],
          "name": "stdout"
        },
        {
          "output_type": "stream",
          "text": [
            "/usr/local/lib/python3.6/dist-packages/sklearn/metrics/classification.py:1437: UndefinedMetricWarning: Precision and F-score are ill-defined and being set to 0.0 in labels with no predicted samples.\n",
            "  'precision', 'predicted', average, warn_for)\n"
          ],
          "name": "stderr"
        },
        {
          "output_type": "stream",
          "text": [
            "Confusion matrix:                precision    recall  f1-score   support\n",
            "\n",
            "           0       0.00      0.00      0.00      2347\n",
            "           1       0.93      1.00      0.97     32449\n",
            "\n",
            "    accuracy                           0.93     34796\n",
            "   macro avg       0.47      0.50      0.48     34796\n",
            "weighted avg       0.87      0.93      0.90     34796\n",
            "\n",
            "decision_tree evaluation with count_vector features\n",
            "accuracy: 0.934733877457179 precision: 0.9957163548953742 recall: 0.9380988328203937 f1-score: 0.9660492442929544 roc_score: 0.7727217327943776 mean squared error: 0.06526612254282102 mean absolute error: 0.06526612254282102\n",
            "Confusion matrix:                precision    recall  f1-score   support\n",
            "\n",
            "           0       0.61      0.09      0.16      2347\n",
            "           1       0.94      1.00      0.97     32449\n",
            "\n",
            "    accuracy                           0.93     34796\n",
            "   macro avg       0.77      0.54      0.56     34796\n",
            "weighted avg       0.92      0.93      0.91     34796\n",
            "\n",
            "decision_tree evaluation with word_level features\n",
            "accuracy: 0.9326359351649615 precision: 0.9998767296372769 recall: 0.9327296248382924 f1-score: 0.9651366867953715 roc_score: 0.7845466306009643 mean squared error: 0.06736406483503851 mean absolute error: 0.06736406483503851\n",
            "Confusion matrix:                precision    recall  f1-score   support\n",
            "\n",
            "           0       0.64      0.00      0.01      2347\n",
            "           1       0.93      1.00      0.97     32449\n",
            "\n",
            "    accuracy                           0.93     34796\n",
            "   macro avg       0.78      0.50      0.49     34796\n",
            "weighted avg       0.91      0.93      0.90     34796\n",
            "\n",
            "decision_tree evaluation with ngram_level features\n",
            "accuracy: 0.9322335900678239 precision: 0.9987672963727696 recall: 0.9332507846920264 f1-score: 0.964898177920686 roc_score: 0.676770319882245 mean squared error: 0.06776640993217611 mean absolute error: 0.06776640993217611\n",
            "Confusion matrix:                precision    recall  f1-score   support\n",
            "\n",
            "           0       0.42      0.01      0.02      2347\n",
            "           1       0.93      1.00      0.96     32449\n",
            "\n",
            "    accuracy                           0.93     34796\n",
            "   macro avg       0.68      0.51      0.49     34796\n",
            "weighted avg       0.90      0.93      0.90     34796\n",
            "\n",
            "decision_tree evaluation with char_level features\n",
            "accuracy: 0.9323772847453731 precision: 0.9996918240931923 recall: 0.9326375711574952 f1-score: 0.9650012642977198 roc_score: 0.6091759284358904 mean squared error: 0.06762271525462697 mean absolute error: 0.06762271525462697\n",
            "Confusion matrix:                precision    recall  f1-score   support\n",
            "\n",
            "           0       0.29      0.00      0.00      2347\n",
            "           1       0.93      1.00      0.97     32449\n",
            "\n",
            "    accuracy                           0.93     34796\n",
            "   macro avg       0.61      0.50      0.48     34796\n",
            "weighted avg       0.89      0.93      0.90     34796\n",
            "\n",
            "logistic_regression evaluation with count_vector features\n"
          ],
          "name": "stdout"
        },
        {
          "output_type": "stream",
          "text": [
            "/usr/local/lib/python3.6/dist-packages/sklearn/linear_model/logistic.py:432: FutureWarning: Default solver will be changed to 'lbfgs' in 0.22. Specify a solver to silence this warning.\n",
            "  FutureWarning)\n"
          ],
          "name": "stderr"
        },
        {
          "output_type": "stream",
          "text": [
            "accuracy: 0.9741349580411541 precision: 0.9908779931584949 recall: 0.9815611930274445 f1-score: 0.9861975891789099 roc_score: 0.9181959962194604 mean squared error: 0.025865041958845845 mean absolute error: 0.025865041958845845\n",
            "Confusion matrix:                precision    recall  f1-score   support\n",
            "\n",
            "           0       0.85      0.74      0.79      2347\n",
            "           1       0.98      0.99      0.99     32449\n",
            "\n",
            "    accuracy                           0.97     34796\n",
            "   macro avg       0.92      0.87      0.89     34796\n",
            "weighted avg       0.97      0.97      0.97     34796\n",
            "\n",
            "logistic_regression evaluation with word_level features\n"
          ],
          "name": "stdout"
        },
        {
          "output_type": "stream",
          "text": [
            "/usr/local/lib/python3.6/dist-packages/sklearn/linear_model/logistic.py:432: FutureWarning: Default solver will be changed to 'lbfgs' in 0.22. Specify a solver to silence this warning.\n",
            "  FutureWarning)\n"
          ],
          "name": "stderr"
        },
        {
          "output_type": "stream",
          "text": [
            "accuracy: 0.9348775721347281 precision: 0.9943295633147401 recall: 0.9393833522578391 f1-score: 0.9660758129229294 roc_score: 0.7647918988460688 mean squared error: 0.06512242786527186 mean absolute error: 0.06512242786527186\n",
            "Confusion matrix:                precision    recall  f1-score   support\n",
            "\n",
            "           0       0.59      0.11      0.19      2347\n",
            "           1       0.94      0.99      0.97     32449\n",
            "\n",
            "    accuracy                           0.93     34796\n",
            "   macro avg       0.76      0.55      0.58     34796\n",
            "weighted avg       0.92      0.93      0.91     34796\n",
            "\n",
            "logistic_regression evaluation with ngram_level features\n"
          ],
          "name": "stdout"
        },
        {
          "output_type": "stream",
          "text": [
            "/usr/local/lib/python3.6/dist-packages/sklearn/linear_model/logistic.py:432: FutureWarning: Default solver will be changed to 'lbfgs' in 0.22. Specify a solver to silence this warning.\n",
            "  FutureWarning)\n"
          ],
          "name": "stderr"
        },
        {
          "output_type": "stream",
          "text": [
            "accuracy: 0.9326646741004713 precision: 0.9995993713211501 recall: 0.9329804981878848 f1-score: 0.9651417094398572 roc_score: 0.7498235824272758 mean squared error: 0.06733532589952868 mean absolute error: 0.06733532589952868\n",
            "Confusion matrix:                precision    recall  f1-score   support\n",
            "\n",
            "           0       0.57      0.01      0.01      2347\n",
            "           1       0.93      1.00      0.97     32449\n",
            "\n",
            "    accuracy                           0.93     34796\n",
            "   macro avg       0.75      0.50      0.49     34796\n",
            "weighted avg       0.91      0.93      0.90     34796\n",
            "\n",
            "logistic_regression evaluation with char_level features\n"
          ],
          "name": "stdout"
        },
        {
          "output_type": "stream",
          "text": [
            "/usr/local/lib/python3.6/dist-packages/sklearn/linear_model/logistic.py:432: FutureWarning: Default solver will be changed to 'lbfgs' in 0.22. Specify a solver to silence this warning.\n",
            "  FutureWarning)\n"
          ],
          "name": "stderr"
        },
        {
          "output_type": "stream",
          "text": [
            "accuracy: 0.9323772847453731 precision: 0.9987672963727696 recall: 0.9333851736651114 f1-score: 0.9649700019353591 roc_score: 0.6964223165622854 mean squared error: 0.06762271525462697 mean absolute error: 0.06762271525462697\n",
            "Confusion matrix:                precision    recall  f1-score   support\n",
            "\n",
            "           0       0.46      0.01      0.03      2347\n",
            "           1       0.93      1.00      0.96     32449\n",
            "\n",
            "    accuracy                           0.93     34796\n",
            "   macro avg       0.70      0.51      0.50     34796\n",
            "weighted avg       0.90      0.93      0.90     34796\n",
            "\n"
          ],
          "name": "stdout"
        }
      ]
    },
    {
      "cell_type": "markdown",
      "metadata": {
        "id": "TGAGNf52A_jw",
        "colab_type": "text"
      },
      "source": [
        "Bidirectional LSTM and GRU"
      ]
    },
    {
      "cell_type": "code",
      "metadata": {
        "id": "QOlsJyCp7ZpO",
        "colab_type": "code",
        "colab": {}
      },
      "source": [
        "seed = 0\n",
        "import random\n",
        "import numpy as np\n",
        "random.seed(seed)\n",
        "np.random.seed(seed)"
      ],
      "execution_count": 0,
      "outputs": []
    },
    {
      "cell_type": "code",
      "metadata": {
        "id": "amP2eBFm51LG",
        "colab_type": "code",
        "colab": {}
      },
      "source": [
        "#data pre-processing function\n",
        "def format_data(train_data, max_features, maxlen):\n",
        "    train_data = train_data.sample(frac=1).reset_index(drop=True)\n",
        "    train_data['text'] = train_data['text'].apply(lambda x: x.lower())\n",
        "\n",
        "    train_X = train_data['text']\n",
        "    \n",
        "    label_Y = to_categorical(train_data['sentiment'].values)\n",
        "\n",
        "    tokenizer = Tokenizer(num_words=max_features)\n",
        "    tokenizer.fit_on_texts(list(train_X))\n",
        "    word_index = tokenizer.word_index\n",
        "    train_X = tokenizer.texts_to_sequences(train_X)\n",
        "    train_X = pad_sequences(train_X, maxlen=maxlen)\n",
        "\n",
        "    return train_X, label_Y, word_index"
      ],
      "execution_count": 0,
      "outputs": []
    },
    {
      "cell_type": "code",
      "metadata": {
        "id": "6xKN0Y5y8l4v",
        "colab_type": "code",
        "colab": {}
      },
      "source": [
        "#evaluation function\n",
        "def evaluation(predictions,class_y):\n",
        "    precision = metrics.precision_score(predictions,class_y)\n",
        "    recall = metrics.recall_score(predictions,class_y)\n",
        "    f1 = metrics.f1_score(predictions,class_y,labels=np.unique(class_y))\n",
        "    roc_score = metrics.roc_auc_score(predictions,class_y)\n",
        "    mean_sq_error = metrics.mean_squared_error(predictions,class_y)\n",
        "    mean_abs_error = metrics.mean_absolute_error(predictions,class_y)\n",
        "    return precision, recall, f1, roc_score, mean_sq_error, mean_abs_error\n",
        "#prediction function\n",
        "def prediction_fun(predictions,Y_val):\n",
        "  pred_labels = []\n",
        "  for y in predictions:\n",
        "    pred_labels.append(np.argmax(y))\n",
        "  pred_labels = to_categorical(np.asarray(pred_labels))\n",
        "  y_act = Y_val.argmax(1)\n",
        "  y_pred = pred_labels.argmax(1)\n",
        "  return y_pred, y_act  "
      ],
      "execution_count": 0,
      "outputs": []
    },
    {
      "cell_type": "code",
      "metadata": {
        "id": "JPs3Aub76vgH",
        "colab_type": "code",
        "colab": {}
      },
      "source": [
        "maxlen = 100\n",
        "max_features = 10000\n",
        "train_X, label_Y, word_index = format_data(dataset[['text','sentiment']], max_features, maxlen)"
      ],
      "execution_count": 0,
      "outputs": []
    },
    {
      "cell_type": "code",
      "metadata": {
        "id": "XUmppJGT66d0",
        "colab_type": "code",
        "colab": {}
      },
      "source": [
        "#train test split\n",
        "X_train, X_val, Y_train, Y_val = model_selection.train_test_split(train_X, label_Y, test_size=0.2, random_state=seed)"
      ],
      "execution_count": 0,
      "outputs": []
    },
    {
      "cell_type": "markdown",
      "metadata": {
        "id": "EbRNFRDsAHsJ",
        "colab_type": "text"
      },
      "source": [
        "LSTM implementation"
      ]
    },
    {
      "cell_type": "code",
      "metadata": {
        "id": "jtLPWqT0BLld",
        "colab_type": "code",
        "colab": {}
      },
      "source": [
        "import os\n",
        "embeddings_index = {}\n",
        "f = open('glove.6B.100d.txt')\n",
        "for line in f:\n",
        "    values = line.split()\n",
        "    word = values[0]\n",
        "    coefs = np.asarray(values[1:], dtype='float32')\n",
        "    embeddings_index[word] = coefs\n",
        "f.close()"
      ],
      "execution_count": 0,
      "outputs": []
    },
    {
      "cell_type": "code",
      "metadata": {
        "id": "SABjNMtDBLjW",
        "colab_type": "code",
        "colab": {}
      },
      "source": [
        "EMBEDDING_DIM = 100\n",
        "\n",
        "embedding_matrix = np.zeros((len(word_index) + 1, EMBEDDING_DIM))\n",
        "for word, i in word_index.items():\n",
        "    embedding_vector = embeddings_index.get(word)\n",
        "    if embedding_vector is not None:\n",
        "        # words not found in embedding index will be all-zeros.\n",
        "        embedding_matrix[i] = embedding_vector"
      ],
      "execution_count": 0,
      "outputs": []
    },
    {
      "cell_type": "code",
      "metadata": {
        "id": "oxgCHFcLBLgi",
        "colab_type": "code",
        "colab": {}
      },
      "source": [
        "from keras.layers import Embedding\n",
        "embedding_layer = Embedding(len(word_index) + 1,\n",
        "                            EMBEDDING_DIM,\n",
        "                            weights=[embedding_matrix],\n",
        "                            input_length=maxlen,\n",
        "                            trainable=False)"
      ],
      "execution_count": 0,
      "outputs": []
    },
    {
      "cell_type": "code",
      "metadata": {
        "id": "y26zXAO_BLd8",
        "colab_type": "code",
        "outputId": "bd102485-9414-495a-835b-f459dec6cdae",
        "colab": {
          "base_uri": "https://localhost:8080/",
          "height": 153
        }
      },
      "source": [
        "inp = Input(shape=(maxlen,))\n",
        "x = embedded_sequences = embedding_layer(inp)\n",
        "x = Bidirectional(LSTM(100, return_sequences=True, dropout=0.1, recurrent_dropout=0.1))(x)\n",
        "x = GlobalMaxPool1D()(x)\n",
        "x = Dense(100, activation=\"relu\")(x)\n",
        "x = Dropout(0.1)(x)\n",
        "x = Dense(2, activation=\"sigmoid\")(x)\n",
        "model = Model(inputs=inp, outputs=x)\n",
        "model.compile(loss='binary_crossentropy', optimizer='adam', metrics=['accuracy'])\n",
        "model.fit(X_train, Y_train, validation_data=(X_val, Y_val),\n",
        "          epochs=3, batch_size=128)\n",
        "\n",
        "#saving the LSTM Model\n",
        "model.save('LSTM_Project.model')\n",
        "\n",
        "predictions = model.predict(X_val, batch_size=128, verbose=1)"
      ],
      "execution_count": 0,
      "outputs": [
        {
          "output_type": "stream",
          "text": [
            "Train on 111346 samples, validate on 27837 samples\n",
            "Epoch 1/3\n",
            "111346/111346 [==============================] - 312s 3ms/step - loss: 0.1847 - acc: 0.9378 - val_loss: 0.1359 - val_acc: 0.9489\n",
            "Epoch 2/3\n",
            "111346/111346 [==============================] - 311s 3ms/step - loss: 0.1320 - acc: 0.9489 - val_loss: 0.1149 - val_acc: 0.9558\n",
            "Epoch 3/3\n",
            "111346/111346 [==============================] - 325s 3ms/step - loss: 0.1126 - acc: 0.9566 - val_loss: 0.1032 - val_acc: 0.9606\n",
            "27837/27837 [==============================] - 29s 1ms/step\n"
          ],
          "name": "stdout"
        }
      ]
    },
    {
      "cell_type": "code",
      "metadata": {
        "id": "qkJ-a5XK_b7Z",
        "colab_type": "code",
        "outputId": "5c940dd5-bc71-4fe0-e54f-0a1b4d274e30",
        "colab": {
          "base_uri": "https://localhost:8080/",
          "height": 204
        }
      },
      "source": [
        "#LST evaluation report\n",
        "print('LSTM evaluation:')\n",
        "y_pred, y_act = prediction_fun(predictions,Y_val)\n",
        "precision, recall, f1, roc_score, mean_sq_error, mean_abs_error = evaluation(y_pred,y_act)\n",
        "print (\"precision:\",precision,\"recall:\",recall,\"f1-score:\",f1,\"roc_score:\",roc_score,\"mean squared error:\",mean_sq_error,\"mean absolute error:\",mean_abs_error)\n",
        "print('confusion matrix',classification_report(y_pred, y_act))"
      ],
      "execution_count": 0,
      "outputs": [
        {
          "output_type": "stream",
          "text": [
            "LSTM evaluation:\n",
            "precision: 0.9848642003764742 recall: 0.9733844635127952 f1-score: 0.9790906834195803 roc_score: 0.8552712844581988 mean squared error: 0.03933613535941373 mean absolute error: 0.03933613535941373\n",
            "confusion matrix               precision    recall  f1-score   support\n",
            "\n",
            "           0       0.61      0.74      0.67      1499\n",
            "           1       0.98      0.97      0.98     26338\n",
            "\n",
            "    accuracy                           0.96     27837\n",
            "   macro avg       0.80      0.86      0.82     27837\n",
            "weighted avg       0.96      0.96      0.96     27837\n",
            "\n"
          ],
          "name": "stdout"
        }
      ]
    },
    {
      "cell_type": "markdown",
      "metadata": {
        "id": "kdAkID1V_ya6",
        "colab_type": "text"
      },
      "source": [
        "Bi-directional GRU Implementation"
      ]
    },
    {
      "cell_type": "code",
      "metadata": {
        "id": "KNVh2izj_1-K",
        "colab_type": "code",
        "outputId": "1ea90d9d-03e9-4787-f156-4c7bc1e5a85c",
        "colab": {
          "base_uri": "https://localhost:8080/",
          "height": 204
        }
      },
      "source": [
        "model = Sequential()\n",
        "model.add(Embedding(max_features, 125, input_length=train_X.shape[1]))\n",
        "model.add(SpatialDropout1D(0.2))\n",
        "model.add(Bidirectional(GRU(75)))\n",
        "model.add(Dropout(0.2))\n",
        "model.add(Dense(2, activation='sigmoid'))"
      ],
      "execution_count": 0,
      "outputs": [
        {
          "output_type": "stream",
          "text": [
            "WARNING:tensorflow:From /usr/local/lib/python3.6/dist-packages/keras/backend/tensorflow_backend.py:66: The name tf.get_default_graph is deprecated. Please use tf.compat.v1.get_default_graph instead.\n",
            "\n",
            "WARNING:tensorflow:From /usr/local/lib/python3.6/dist-packages/keras/backend/tensorflow_backend.py:541: The name tf.placeholder is deprecated. Please use tf.compat.v1.placeholder instead.\n",
            "\n",
            "WARNING:tensorflow:From /usr/local/lib/python3.6/dist-packages/keras/backend/tensorflow_backend.py:4432: The name tf.random_uniform is deprecated. Please use tf.random.uniform instead.\n",
            "\n",
            "WARNING:tensorflow:From /usr/local/lib/python3.6/dist-packages/keras/backend/tensorflow_backend.py:148: The name tf.placeholder_with_default is deprecated. Please use tf.compat.v1.placeholder_with_default instead.\n",
            "\n",
            "WARNING:tensorflow:From /usr/local/lib/python3.6/dist-packages/keras/backend/tensorflow_backend.py:3733: calling dropout (from tensorflow.python.ops.nn_ops) with keep_prob is deprecated and will be removed in a future version.\n",
            "Instructions for updating:\n",
            "Please use `rate` instead of `keep_prob`. Rate should be set to `rate = 1 - keep_prob`.\n"
          ],
          "name": "stdout"
        }
      ]
    },
    {
      "cell_type": "code",
      "metadata": {
        "id": "wQZ4zOp1_5xz",
        "colab_type": "code",
        "outputId": "4669c82d-6d04-41bb-a847-4bdf89ebbeac",
        "colab": {
          "base_uri": "https://localhost:8080/",
          "height": 119
        }
      },
      "source": [
        "epochs = 2\n",
        "batch_size = 32\n",
        "model.compile(loss='categorical_crossentropy', optimizer='adam', metrics=['accuracy'])\n",
        "model.fit(X_train, Y_train, validation_data=(X_val, Y_val), epochs=epochs, batch_size=batch_size, verbose=1)\n",
        "\n",
        "#saving the GRU model\n",
        "model.save('GRU_project.model')\n",
        "\n",
        "\n",
        "predictions = model.predict(X_val, batch_size=batch_size, verbose=1)"
      ],
      "execution_count": 0,
      "outputs": [
        {
          "output_type": "stream",
          "text": [
            "Train on 111346 samples, validate on 27837 samples\n",
            "Epoch 1/2\n",
            "111346/111346 [==============================] - 1010s 9ms/step - loss: 0.1423 - acc: 0.9492 - val_loss: 0.0993 - val_acc: 0.9645\n",
            "Epoch 2/2\n",
            "111346/111346 [==============================] - 991s 9ms/step - loss: 0.0747 - acc: 0.9730 - val_loss: 0.0889 - val_acc: 0.9710\n",
            "27837/27837 [==============================] - 83s 3ms/step\n"
          ],
          "name": "stdout"
        }
      ]
    },
    {
      "cell_type": "code",
      "metadata": {
        "id": "orEvEfC3_-a5",
        "colab_type": "code",
        "outputId": "e8fb8e93-86f3-47da-dccd-3283d04dd048",
        "colab": {
          "base_uri": "https://localhost:8080/",
          "height": 204
        }
      },
      "source": [
        "#GRU evaluation report\n",
        "print('GRU evaluation:')\n",
        "y_pred, y_act = prediction_fun(predictions,Y_val)\n",
        "precision, recall, f1, roc_score, mean_sq_error, mean_abs_error = evaluation(y_pred,y_act)\n",
        "print (\"precision:\",precision,\"recall:\",recall,\"f1-score:\",f1,\"roc_score:\",roc_score,\"mean squared error:\",mean_sq_error,\"mean absolute error:\",mean_abs_error)\n",
        "print('confusion matrix',classification_report(y_pred, y_act))"
      ],
      "execution_count": 0,
      "outputs": [
        {
          "output_type": "stream",
          "text": [
            "GRU evaluation:\n",
            "precision: 0.9922016057777265 recall: 0.9771858802164125 f1-score: 0.9846364987991308 roc_score: 0.9164023284439105 mean squared error: 0.028954269497431476 mean absolute error: 0.028954269497431476\n",
            "confusion matrix               precision    recall  f1-score   support\n",
            "\n",
            "           0       0.67      0.86      0.75      1406\n",
            "           1       0.99      0.98      0.98     26431\n",
            "\n",
            "    accuracy                           0.97     27837\n",
            "   macro avg       0.83      0.92      0.87     27837\n",
            "weighted avg       0.98      0.97      0.97     27837\n",
            "\n"
          ],
          "name": "stdout"
        }
      ]
    },
    {
      "cell_type": "markdown",
      "metadata": {
        "id": "gAb5VHNiC16F",
        "colab_type": "text"
      },
      "source": [
        "# **Classification using BERT**"
      ]
    },
    {
      "cell_type": "markdown",
      "metadata": {
        "id": "22njLvRFPHZX",
        "colab_type": "text"
      },
      "source": [
        "splitting to train and test set"
      ]
    },
    {
      "cell_type": "code",
      "metadata": {
        "id": "PbUkZ_eAsz3f",
        "colab_type": "code",
        "colab": {}
      },
      "source": [
        "msk = np.random.rand(len(dataset)) < 0.8\n",
        "train_data = dataset[msk]\n",
        "test_data = dataset[~msk]"
      ],
      "execution_count": 0,
      "outputs": []
    },
    {
      "cell_type": "code",
      "metadata": {
        "id": "LNWU0XsQBJeR",
        "colab_type": "code",
        "outputId": "63594f76-6485-4089-f930-851d5d8c1129",
        "colab": {
          "base_uri": "https://localhost:8080/",
          "height": 1000,
          "referenced_widgets": [
            "3ee54b30c6354a2488882456744a3bb6",
            "f7f1fb86516b4fc8a5f55d2962e3924d",
            "fef3d6e70bf6485d9797b3a936e11053",
            "e04728a0597349c6b2fa106cc31d1ecf",
            "0275450c7aa74c73b76945ddd8a565e6",
            "30626c1ab34f4e708d76331826a220f2",
            "61e232063c88434c86da657a83e5b69e",
            "81d5e6fec8c74ce4b898080fa3bdb9fe",
            "3aed6af34db54d378b7cab93987a5afb",
            "c46060cde3bf4035b595d700a99b4bbb",
            "4b3921a525a147668bcfb731bd25cc5b",
            "ac6b730058954585baef8702018fd7ea",
            "f063bef5526246f88d260b64f31d3dc3",
            "935e5ab9a31341ae8f19bec7a7a19e9b",
            "56955e9140484a739b81504304cb31e6",
            "64fd0d86b85a4e7695246ed39a5c9af6",
            "e8bb0523a70a444790b4241b17ebfa84",
            "d079902d9bb144588c3353a39ecad4c7",
            "229f417cc17e4655b9af52f12974fc6f",
            "afde45ea4fa6446d938cab9827c4ed04",
            "9e8f62ce451f483096d1388cb3ef0981",
            "8723ea06798549be97a5f6b0f5038e4b",
            "cb52cf19f4d843b89d1145a3693bea89",
            "d7ca2a82126f44a690c3136d9a00e51a",
            "01465ef0886b49da8f5ff99f3b7367fb",
            "55016503ad46451ead74122fe9209123",
            "8d3ee6f4dbf843f7ba2be9a1412bb60b",
            "97a7c3a2fe7b46fcb21152d1a1bdf445",
            "5bb893515813419ca3d0df2f6b53c3a2",
            "405b083d1e824ddf96658ac3589cb05b",
            "80426de3044049048d3518d872412b33",
            "e66ad0b5ecc343e8a0fd106b5ed0f50c"
          ]
        }
      },
      "source": [
        "import torch\n",
        "import pickle\n",
        "from torch.utils.data import (DataLoader, RandomSampler, SequentialSampler, TensorDataset)\n",
        "from torch.nn import CrossEntropyLoss, MSELoss\n",
        "from tqdm import tqdm_notebook, trange\n",
        "import os\n",
        "from pytorch_pretrained_bert import BertTokenizer, BertModel, BertForMaskedLM, BertForSequenceClassification\n",
        "from pytorch_pretrained_bert.optimization import BertAdam, WarmupLinearSchedule\n",
        "from multiprocessing import Pool, cpu_count\n",
        "from tools import *\n",
        "import numpy as np\n",
        "from sklearn.metrics import matthews_corrcoef, confusion_matrix\n",
        "from torch.utils.data.distributed import DistributedSampler\n",
        "import logging\n",
        "from os import listdir\n",
        "from os.path import isfile, join\n",
        "import time\n",
        "\n",
        "logging.basicConfig(level=logging.INFO)\n",
        "\n",
        "device = torch.device(\"cuda\" if torch.cuda.is_available() else \"cpu\") \n",
        "\n",
        "\n",
        "#formatting training and testing data as BERT takes input\n",
        "train_set = pd.DataFrame({'id':range(len(train_data)),'label':train_data['sentiment'],'text': train_data['text'].replace(r'\\n', ' ', regex=True)})\n",
        "alpha = []\n",
        "for i in range(len(train_data)):\n",
        "  alpha.append('a')\n",
        "\n",
        "train_set.insert(2,'alpha',alpha,allow_duplicates=True)\n",
        "test_set = pd.DataFrame({'id':range(len(test_data)),'label':test_data['sentiment'],'text': test_data['text'].replace(r'\\n', ' ', regex=True)})\n",
        "\n",
        "alpha = []\n",
        "for i in range(len(test_data)):\n",
        "  alpha.append('a')\n",
        "\n",
        "test_set.insert(2,'alpha',alpha,allow_duplicates=True)\n",
        "\n",
        "train_set.to_csv('train_set.tsv', sep='\\t', index=False, header=False)\n",
        "test_set.to_csv('test_set.tsv', sep='\\t', index=False, header=False)\n",
        "\n",
        "#BERT implementation section\n",
        "from __future__ import absolute_import, division, print_function\n",
        "\n",
        "import csv\n",
        "import os\n",
        "import sys\n",
        "import logging\n",
        "\n",
        "csv.field_size_limit(2147483647) # Increase CSV reader's field limit incase we have long text.\n",
        "logger = logging.getLogger()\n",
        "\n",
        "class InputExample(object):\n",
        "\n",
        "    def __init__(self, guid, text_a, text_b=None, label=None):\n",
        "\n",
        "        self.guid = guid\n",
        "        self.text_a = text_a\n",
        "        self.text_b = text_b\n",
        "        self.label = label\n",
        "\n",
        "\n",
        "class DataProcessor(object):\n",
        "\n",
        "    def get_train_examples(self, data_dir):\n",
        "        raise NotImplementedError()\n",
        "\n",
        "    def get_dev_examples(self, data_dir):\n",
        "        raise NotImplementedError()\n",
        "\n",
        "    def get_labels(self):\n",
        "        raise NotImplementedError()\n",
        "\n",
        "    @classmethod\n",
        "    def _read_tsv(cls, input_file, quotechar=None):\n",
        "        with open(input_file, \"r\", encoding=\"utf-8\") as f:\n",
        "            reader = csv.reader(f, delimiter=\"\\t\", quotechar=quotechar)\n",
        "            lines = []\n",
        "            for line in reader:\n",
        "                if sys.version_info[0] == 2:\n",
        "                    line = list(unicode(cell, 'utf-8') for cell in line)\n",
        "                lines.append(line)\n",
        "            return lines\n",
        "\n",
        "\n",
        "class BinaryClassificationProcessor(DataProcessor):\n",
        "\n",
        "    def get_train_examples(self, data_dir):\n",
        "\n",
        "        return self._create_examples(\n",
        "            self._read_tsv(os.path.join(data_dir, \"train_set.tsv\")), \"train\")\n",
        "\n",
        "    def get_dev_examples(self, data_dir):\n",
        "\n",
        "        return self._create_examples(\n",
        "            self._read_tsv(os.path.join(data_dir, \"test_set.tsv\")), \"test\")\n",
        "\n",
        "    def get_labels(self):\n",
        "\n",
        "        return [\"0\", \"1\"]\n",
        "\n",
        "    def _create_examples(self, lines, set_type):\n",
        "\n",
        "        examples = []\n",
        "        for (i, line) in enumerate(lines):\n",
        "            guid = \"%s-%s\" % (set_type, i)\n",
        "            text_a = line[3]\n",
        "            label = line[1]\n",
        "            examples.append(\n",
        "                InputExample(guid=guid, text_a=text_a, text_b=None, label=label))\n",
        "        return examples\n",
        "\n",
        "class InputFeatures(object):\n",
        "\n",
        "    def __init__(self, input_ids, input_mask, segment_ids, label_id):\n",
        "        self.input_ids = input_ids\n",
        "        self.input_mask = input_mask\n",
        "        self.segment_ids = segment_ids\n",
        "        self.label_id = label_id\n",
        "\n",
        "\n",
        "def _truncate_seq_pair(tokens_a, tokens_b, max_length):\n",
        "\n",
        "    while True:\n",
        "        total_length = len(tokens_a) + len(tokens_b)\n",
        "        if total_length <= max_length:\n",
        "            break\n",
        "        if len(tokens_a) > len(tokens_b):\n",
        "            tokens_a.pop()\n",
        "        else:\n",
        "            tokens_b.pop()\n",
        "\n",
        "\n",
        "def convert_example_to_feature(example_row):\n",
        "\n",
        "    example, label_map, max_seq_length, tokenizer, output_mode = example_row\n",
        "\n",
        "    tokens_a = tokenizer.tokenize(example.text_a)\n",
        "\n",
        "    tokens_b = None\n",
        "    if example.text_b:\n",
        "        tokens_b = tokenizer.tokenize(example.text_b)\n",
        "        _truncate_seq_pair(tokens_a, tokens_b, max_seq_length - 3)\n",
        "    else:\n",
        "        if len(tokens_a) > max_seq_length - 2:\n",
        "            tokens_a = tokens_a[:(max_seq_length - 2)]\n",
        "\n",
        "    tokens = [\"[CLS]\"] + tokens_a + [\"[SEP]\"]\n",
        "    segment_ids = [0] * len(tokens)\n",
        "\n",
        "    if tokens_b:\n",
        "        tokens += tokens_b + [\"[SEP]\"]\n",
        "        segment_ids += [1] * (len(tokens_b) + 1)\n",
        "\n",
        "    input_ids = tokenizer.convert_tokens_to_ids(tokens)\n",
        "\n",
        "    input_mask = [1] * len(input_ids)\n",
        "\n",
        "    padding = [0] * (max_seq_length - len(input_ids))\n",
        "    input_ids += padding\n",
        "    input_mask += padding\n",
        "    segment_ids += padding\n",
        "\n",
        "    assert len(input_ids) == max_seq_length\n",
        "    assert len(input_mask) == max_seq_length\n",
        "    assert len(segment_ids) == max_seq_length\n",
        "\n",
        "    if output_mode == \"classification\":\n",
        "        label_id = label_map[example.label]\n",
        "    elif output_mode == \"regression\":\n",
        "        label_id = float(example.label)\n",
        "    else:\n",
        "        raise KeyError(output_mode)\n",
        "\n",
        "    return InputFeatures(input_ids=input_ids,\n",
        "                         input_mask=input_mask,\n",
        "                         segment_ids=segment_ids,\n",
        "                         label_id=label_id)\n",
        "\n",
        "data_directory = \"/content/drive/My Drive/NLP_project\"\n",
        "\n",
        "#initial baseline bert model\n",
        "base_bert_model = 'bert-base-cased'\n",
        "\n",
        "sub_folder_name = 'reviews'\n",
        "\n",
        "output_directory = f'/content/drive/My Drive/NLP_project/{sub_folder_name}/'\n",
        "\n",
        "evaluation_directory = f'/content/drive/My Drive/NLP_project/{sub_folder_name}_evaluation_report/'\n",
        "\n",
        "cache_directory = '/content/drive/My Drive/NLP_project/cache/'\n",
        "\n",
        "#hyperparameters\n",
        "sequence_length = 128\n",
        "batch_size = 24\n",
        "evaluation_batch_size = 32\n",
        "learn_rate = 2e-5\n",
        "epochs = 1\n",
        "seed_val = 42\n",
        "step_size = 1\n",
        "initial_prop = 0.1\n",
        "out_type = 'classification'\n",
        "config_file = \"bert_config.json\"\n",
        "model_file = \"pytorch_model.bin\"   \n",
        "\n",
        "if os.path.exists(evaluation_directory) and os.listdir(evaluation_directory):\n",
        "        evaluation_directory += f'/report_{len(os.listdir(evaluation_directory))}'\n",
        "        os.makedirs(evaluation_directory)\n",
        "if not os.path.exists(evaluation_directory):\n",
        "    os.makedirs(evaluation_directory)\n",
        "    evaluation_directory += f'/report_{len(os.listdir(evaluation_directory))}'\n",
        "    os.makedirs(evaluation_directory)\n",
        "\n",
        "if os.path.exists(output_directory) and os.listdir(output_directory):\n",
        "        raise ValueError(\"Please delete existing output directory\".format(output_directory))\n",
        "if not os.path.exists(output_directory):\n",
        "    os.makedirs(output_directory)\n",
        "\n",
        "classifier = BinaryClassificationProcessor()\n",
        "training_data = classifier.get_train_examples(data_directory)\n",
        "training_data_size = len(training_data)\n",
        "labels = classifier.get_labels()\n",
        "num_labels = len(labels)    \n",
        "\n",
        "train_steps = int(training_data_size / batch_size / step_size) * epochs\n",
        "\n",
        "tokenizer = BertTokenizer.from_pretrained('bert-base-cased', do_lower_case=False)\n",
        "\n",
        "labelling = {label: i for i, label in enumerate(labels)}\n",
        "train_examples_for_processing = [(data, labelling, sequence_length, tokenizer, out_type) for data in training_data]\n",
        "\n",
        "if __name__ ==  '__main__':\n",
        "    with Pool(cpu_count() - 1) as p:\n",
        "        train_features = list(tqdm_notebook(p.imap(convert_example_to_feature, train_examples_for_processing), total=training_data_size))\n",
        "\n",
        "with open(data_directory + \"train_pickle.pkl\", \"wb\") as f:\n",
        "    pickle.dump(train_features, f)\n",
        "\n",
        "model = BertForSequenceClassification.from_pretrained(base_bert_model, cache_dir=cache_directory, num_labels=num_labels)\n",
        "model.to(device)\n",
        "\n",
        "tune_parameters = list(model.named_parameters())\n",
        "decay_lst = ['bias', 'LayerNorm.bias', 'LayerNorm.weight']\n",
        "optimizer_grouped_parameters = [\n",
        "    {'params': [p for n, p in tune_parameters if not any(i in n for i in decay_lst)], 'weight_decay': 0.01},\n",
        "    {'params': [p for n, p in tune_parameters if any(i in n for i in decay_lst)], 'weight_decay': 0.0}\n",
        "    ]\n",
        "\n",
        "optimizer = BertAdam(optimizer_grouped_parameters,lr=learn_rate,warmup=initial_prop,t_total=train_steps)\n",
        "\n",
        "all_input_ids = torch.tensor([f.input_ids for f in train_features], dtype=torch.long)\n",
        "all_input_mask = torch.tensor([f.input_mask for f in train_features], dtype=torch.long)\n",
        "all_segment_ids = torch.tensor([f.segment_ids for f in train_features], dtype=torch.long)\n",
        "all_label_ids = torch.tensor([f.label_id for f in train_features], dtype=torch.long)\n",
        "\n",
        "train_data = TensorDataset(all_input_ids, all_input_mask, all_segment_ids, all_label_ids)\n",
        "train_sampler = RandomSampler(train_data)\n",
        "train_dataloader = DataLoader(train_data, sampler=train_sampler, batch_size=batch_size)\n",
        "\n",
        "#training\n",
        "global_step = 0\n",
        "nb_tr_steps = 0\n",
        "tr_loss = 0\n",
        "model.train()\n",
        "for _ in trange(int(epochs), desc=\"Epoch\"):\n",
        "    tr_loss = 0\n",
        "    nb_tr_examples, nb_tr_steps = 0, 0\n",
        "    for step, batch in enumerate(tqdm_notebook(train_dataloader, desc=\"Iteration\")):\n",
        "        batch = tuple(t.to(device) for t in batch)\n",
        "        input_ids, input_mask, segment_ids, label_ids = batch\n",
        "\n",
        "        logits = model(input_ids, segment_ids, input_mask, labels=None)\n",
        "\n",
        "        \n",
        "        loss_fct = CrossEntropyLoss()\n",
        "        loss = loss_fct(logits.view(-1, num_labels), label_ids.view(-1))\n",
        "               \n",
        "        if step_size > 1:\n",
        "            loss = loss / step_size\n",
        "\n",
        "        loss.backward()\n",
        "        print(\"\\r%f\" % loss, end='')\n",
        "        \n",
        "        tr_loss += loss.item()\n",
        "        nb_tr_examples += input_ids.size(0)\n",
        "        nb_tr_steps += 1\n",
        "        if (step + 1) % step_size == 0:\n",
        "            optimizer.step()\n",
        "            optimizer.zero_grad()\n",
        "            global_step += 1\n",
        "\n",
        "\n",
        "#picks up trained model\n",
        "model_directory = \"/content/drive/My Drive/NLP_project/reviews/\"\n",
        "model_to_save = model.module if hasattr(model, 'module') else model\n",
        "\n",
        "output_model_file = os.path.join(model_directory, model_file)\n",
        "output_config_file = os.path.join(model_directory, config_file)\n",
        "\n",
        "torch.save(model_to_save.state_dict(), output_model_file)\n",
        "model_to_save.config.to_json_file(output_config_file)\n",
        "tokenizer.save_vocabulary(model_directory)\n",
        "\n",
        "if os.path.exists(evaluation_directory) and os.listdir(evaluation_directory):\n",
        "        evaluation_directory += f'/report_{len(os.listdir(evaluation_directory))}'\n",
        "        os.makedirs(evaluation_directory)\n",
        "if not os.path.exists(evaluation_directory):\n",
        "    os.makedirs(evaluation_directory)\n",
        "    evaluation_directory += f'/report_{len(os.listdir(evaluation_directory))}'\n",
        "    os.makedirs(evaluation_directory)\n",
        "\n",
        "#evaluation function\n",
        "def get_eval_report(task_name, labels, preds):\n",
        "    mcc = matthews_corrcoef(labels, preds)\n",
        "    tn, fp, fn, tp = confusion_matrix(labels, preds).ravel()\n",
        "    Accuracy = float(tn + tp)/float(tn+tp+fn+fp)\n",
        "    Precision = float(tp/(tp+fp))\n",
        "    Recall = float(tp/(tp+fn))\n",
        "    F1_score = 2*float(Recall * Precision) / float(Recall + Precision)\n",
        "    return {\n",
        "        \"task\": task_name,\n",
        "        \"mcc\": mcc,\n",
        "        \"tp\": tp,\n",
        "        \"tn\": tn,\n",
        "        \"fp\": fp,\n",
        "        \"fn\": fn,\n",
        "        \"Accuracy\": Accuracy,\n",
        "        \"precision\": Precision,\n",
        "        \"recall\": Recall,\n",
        "        \"f1 score\": F1_score\n",
        "    }\n",
        "\n",
        "def compute_metrics(task_name, labels, preds):\n",
        "    assert len(preds) == len(labels)\n",
        "    return get_eval_report(task_name, labels, preds)\n",
        "\n",
        "tokenizer = BertTokenizer.from_pretrained(model_directory + 'vocab.txt', do_lower_case=False)   \n",
        "\n",
        "processor = BinaryClassificationProcessor()\n",
        "eval_examples = processor.get_dev_examples(data_directory)\n",
        "label_list = processor.get_labels() # [0, 1] for binary classification\n",
        "num_labels = len(label_list)\n",
        "eval_examples_len = len(eval_examples)\n",
        "\n",
        "label_map = {label: i for i, label in enumerate(label_list)}\n",
        "eval_examples_for_processing = [(example, label_map, sequence_length, tokenizer, out_type) for example in eval_examples]\n",
        "\n",
        "process_count = cpu_count() - 1\n",
        "if __name__ ==  '__main__':\n",
        "    with Pool(process_count) as p:\n",
        "        eval_features = list(tqdm_notebook(p.imap(convert_example_to_feature, eval_examples_for_processing), total=eval_examples_len))\n",
        "\n",
        "all_input_ids = torch.tensor([f.input_ids for f in eval_features], dtype=torch.long)\n",
        "all_input_mask = torch.tensor([f.input_mask for f in eval_features], dtype=torch.long)\n",
        "all_segment_ids = torch.tensor([f.segment_ids for f in eval_features], dtype=torch.long) \n",
        "\n",
        "all_label_ids = torch.tensor([f.label_id for f in eval_features], dtype=torch.long)\n",
        "\n",
        "eval_data = TensorDataset(all_input_ids, all_input_mask, all_segment_ids, all_label_ids)\n",
        "eval_sampler = SequentialSampler(eval_data)\n",
        "eval_dataloader = DataLoader(eval_data, sampler=eval_sampler, batch_size=evaluation_batch_size)\n",
        "\n",
        "#uses the trained model now\n",
        "model = BertForSequenceClassification.from_pretrained(model_directory, cache_dir=cache_directory, num_labels=len(label_list))\n",
        "\n",
        "model.to(device)\n",
        "\n",
        "eval_loss = 0\n",
        "nb_eval_steps = 0\n",
        "preds = []\n",
        "\n",
        "for input_ids, input_mask, segment_ids, label_ids in tqdm_notebook(eval_dataloader, desc=\"Evaluating\"):\n",
        "    input_ids = input_ids.to(device)\n",
        "    input_mask = input_mask.to(device)\n",
        "    segment_ids = segment_ids.to(device)\n",
        "    label_ids = label_ids.to(device)\n",
        "\n",
        "    with torch.no_grad():\n",
        "        logits = model(input_ids, segment_ids, input_mask, labels=None)\n",
        "\n",
        "    loss_fct = CrossEntropyLoss()\n",
        "    tmp_eval_loss = loss_fct(logits.view(-1, num_labels), label_ids.view(-1))\n",
        "    \n",
        "    eval_loss += tmp_eval_loss.mean().item()\n",
        "    nb_eval_steps += 1\n",
        "    if len(preds) == 0:\n",
        "        preds.append(logits.detach().cpu().numpy())\n",
        "    else:\n",
        "        preds[0] = np.append(\n",
        "            preds[0], logits.detach().cpu().numpy(), axis=0)\n",
        "\n",
        "eval_loss = eval_loss / nb_eval_steps\n",
        "preds = preds[0]\n",
        "preds = np.argmax(preds, axis=1)\n",
        "\n",
        "result = compute_metrics(sub_folder_name, all_label_ids.numpy(), preds)\n",
        "\n",
        "result['eval_loss'] = eval_loss\n",
        "\n",
        "output_eval_file = os.path.join(evaluation_directory, \"eval_results.txt\")\n",
        "with open(output_eval_file, \"w\") as writer:\n",
        "    logger.info(\"***** Eval results *****\")\n",
        "    for key in (result.keys()):\n",
        "        logger.info(\"  %s = %s\", key, str(result[key]))\n",
        "        writer.write(\"%s = %s\\n\" % (key, str(result[key])))"
      ],
      "execution_count": 0,
      "outputs": [
        {
          "output_type": "stream",
          "text": [
            "Collecting pytorch_pretrained_bert\n",
            "\u001b[?25l  Downloading https://files.pythonhosted.org/packages/d7/e0/c08d5553b89973d9a240605b9c12404bcf8227590de62bae27acbcfe076b/pytorch_pretrained_bert-0.6.2-py3-none-any.whl (123kB)\n",
            "\r\u001b[K     |██▋                             | 10kB 26.9MB/s eta 0:00:01\r\u001b[K     |█████▎                          | 20kB 1.7MB/s eta 0:00:01\r\u001b[K     |████████                        | 30kB 2.6MB/s eta 0:00:01\r\u001b[K     |██████████▋                     | 40kB 1.7MB/s eta 0:00:01\r\u001b[K     |█████████████▎                  | 51kB 2.1MB/s eta 0:00:01\r\u001b[K     |███████████████▉                | 61kB 2.5MB/s eta 0:00:01\r\u001b[K     |██████████████████▌             | 71kB 2.9MB/s eta 0:00:01\r\u001b[K     |█████████████████████▏          | 81kB 3.3MB/s eta 0:00:01\r\u001b[K     |███████████████████████▉        | 92kB 3.7MB/s eta 0:00:01\r\u001b[K     |██████████████████████████▌     | 102kB 2.8MB/s eta 0:00:01\r\u001b[K     |█████████████████████████████▏  | 112kB 2.8MB/s eta 0:00:01\r\u001b[K     |███████████████████████████████▊| 122kB 2.8MB/s eta 0:00:01\r\u001b[K     |████████████████████████████████| 133kB 2.8MB/s \n",
            "\u001b[?25hRequirement already satisfied: boto3 in /usr/local/lib/python3.6/dist-packages (from pytorch_pretrained_bert) (1.10.32)\n",
            "Collecting regex\n",
            "\u001b[?25l  Downloading https://files.pythonhosted.org/packages/8c/db/4b29a0adec5881542cd81cb5d1929b5c0787003c5740b3c921e627d9c2e5/regex-2019.12.9.tar.gz (669kB)\n",
            "\u001b[K     |████████████████████████████████| 675kB 63.8MB/s \n",
            "\u001b[?25hRequirement already satisfied: torch>=0.4.1 in /usr/local/lib/python3.6/dist-packages (from pytorch_pretrained_bert) (1.3.1)\n",
            "Requirement already satisfied: numpy in /usr/local/lib/python3.6/dist-packages (from pytorch_pretrained_bert) (1.17.4)\n",
            "Requirement already satisfied: tqdm in /usr/local/lib/python3.6/dist-packages (from pytorch_pretrained_bert) (4.28.1)\n",
            "Requirement already satisfied: requests in /usr/local/lib/python3.6/dist-packages (from pytorch_pretrained_bert) (2.21.0)\n",
            "Requirement already satisfied: jmespath<1.0.0,>=0.7.1 in /usr/local/lib/python3.6/dist-packages (from boto3->pytorch_pretrained_bert) (0.9.4)\n",
            "Requirement already satisfied: s3transfer<0.3.0,>=0.2.0 in /usr/local/lib/python3.6/dist-packages (from boto3->pytorch_pretrained_bert) (0.2.1)\n",
            "Requirement already satisfied: botocore<1.14.0,>=1.13.32 in /usr/local/lib/python3.6/dist-packages (from boto3->pytorch_pretrained_bert) (1.13.32)\n",
            "Requirement already satisfied: urllib3<1.25,>=1.21.1 in /usr/local/lib/python3.6/dist-packages (from requests->pytorch_pretrained_bert) (1.24.3)\n",
            "Requirement already satisfied: certifi>=2017.4.17 in /usr/local/lib/python3.6/dist-packages (from requests->pytorch_pretrained_bert) (2019.11.28)\n",
            "Requirement already satisfied: idna<2.9,>=2.5 in /usr/local/lib/python3.6/dist-packages (from requests->pytorch_pretrained_bert) (2.8)\n",
            "Requirement already satisfied: chardet<3.1.0,>=3.0.2 in /usr/local/lib/python3.6/dist-packages (from requests->pytorch_pretrained_bert) (3.0.4)\n",
            "Requirement already satisfied: docutils<0.16,>=0.10 in /usr/local/lib/python3.6/dist-packages (from botocore<1.14.0,>=1.13.32->boto3->pytorch_pretrained_bert) (0.15.2)\n",
            "Requirement already satisfied: python-dateutil<2.8.1,>=2.1; python_version >= \"2.7\" in /usr/local/lib/python3.6/dist-packages (from botocore<1.14.0,>=1.13.32->boto3->pytorch_pretrained_bert) (2.6.1)\n",
            "Requirement already satisfied: six>=1.5 in /usr/local/lib/python3.6/dist-packages (from python-dateutil<2.8.1,>=2.1; python_version >= \"2.7\"->botocore<1.14.0,>=1.13.32->boto3->pytorch_pretrained_bert) (1.12.0)\n",
            "Building wheels for collected packages: regex\n",
            "  Building wheel for regex (setup.py) ... \u001b[?25l\u001b[?25hdone\n",
            "  Created wheel for regex: filename=regex-2019.12.9-cp36-cp36m-linux_x86_64.whl size=609183 sha256=048887925b55ab9b4d814f9b0bf1e60de17c302e44e116672e2fb0b4673f6a42\n",
            "  Stored in directory: /root/.cache/pip/wheels/0d/fb/b3/a89169557229468c49ca64f6839418f22461f6ee0a74f342b1\n",
            "Successfully built regex\n",
            "Installing collected packages: regex, pytorch-pretrained-bert\n",
            "Successfully installed pytorch-pretrained-bert-0.6.2 regex-2019.12.9\n",
            "Collecting tools\n",
            "  Downloading https://files.pythonhosted.org/packages/de/20/2a2dddb083fd0ce56b453cf016768b2c49f3c0194090500f78865b7d110c/tools-0.1.9.tar.gz\n",
            "Collecting pytils\n",
            "\u001b[?25l  Downloading https://files.pythonhosted.org/packages/c6/c1/12b556b5bb393ce5130d57af862d045f57fee764797c0fe837e49cb2a5da/pytils-0.3.tar.gz (89kB)\n",
            "\u001b[K     |████████████████████████████████| 92kB 5.0MB/s \n",
            "\u001b[?25hRequirement already satisfied: six in /usr/local/lib/python3.6/dist-packages (from tools) (1.12.0)\n",
            "Requirement already satisfied: lxml in /usr/local/lib/python3.6/dist-packages (from tools) (4.2.6)\n",
            "Building wheels for collected packages: tools, pytils\n",
            "  Building wheel for tools (setup.py) ... \u001b[?25l\u001b[?25hdone\n",
            "  Created wheel for tools: filename=tools-0.1.9-cp36-none-any.whl size=46759 sha256=51c0a8ad9ba967ad581c773d3a8448dbcfd718d934f043f87800af4e647bf721\n",
            "  Stored in directory: /root/.cache/pip/wheels/87/67/9b/1ca7dcb0b9ebfdc23a00c85a0644abb6fb14f9159a0df8e067\n",
            "  Building wheel for pytils (setup.py) ... \u001b[?25l\u001b[?25hdone\n",
            "  Created wheel for pytils: filename=pytils-0.3-cp36-none-any.whl size=40357 sha256=cb9e58988e872ebf12a347e651420e5743817ee198a74f70c8dd56327d8269d7\n",
            "  Stored in directory: /root/.cache/pip/wheels/d6/f9/dc/4f07d8ee40d9cfca9973b3f4aeff99d0bb69900e5f3dffbf32\n",
            "Successfully built tools pytils\n",
            "Installing collected packages: pytils, tools\n",
            "Successfully installed pytils-0.3 tools-0.1.9\n"
          ],
          "name": "stdout"
        },
        {
          "output_type": "stream",
          "text": [
            "INFO:pytorch_pretrained_bert.file_utils:https://s3.amazonaws.com/models.huggingface.co/bert/bert-base-cased-vocab.txt not found in cache, downloading to /tmp/tmpn9mp5n9k\n",
            "100%|██████████| 213450/213450 [00:00<00:00, 391275.26B/s]\n",
            "INFO:pytorch_pretrained_bert.file_utils:copying /tmp/tmpn9mp5n9k to cache at /root/.pytorch_pretrained_bert/5e8a2b4893d13790ed4150ca1906be5f7a03d6c4ddf62296c383f6db42814db2.e13dbb970cb325137104fb2e5f36fe865f27746c6b526f6352861b1980eb80b1\n",
            "INFO:pytorch_pretrained_bert.file_utils:creating metadata file for /root/.pytorch_pretrained_bert/5e8a2b4893d13790ed4150ca1906be5f7a03d6c4ddf62296c383f6db42814db2.e13dbb970cb325137104fb2e5f36fe865f27746c6b526f6352861b1980eb80b1\n",
            "INFO:pytorch_pretrained_bert.file_utils:removing temp file /tmp/tmpn9mp5n9k\n",
            "INFO:pytorch_pretrained_bert.tokenization:loading vocabulary file https://s3.amazonaws.com/models.huggingface.co/bert/bert-base-cased-vocab.txt from cache at /root/.pytorch_pretrained_bert/5e8a2b4893d13790ed4150ca1906be5f7a03d6c4ddf62296c383f6db42814db2.e13dbb970cb325137104fb2e5f36fe865f27746c6b526f6352861b1980eb80b1\n"
          ],
          "name": "stderr"
        },
        {
          "output_type": "display_data",
          "data": {
            "application/vnd.jupyter.widget-view+json": {
              "model_id": "3ee54b30c6354a2488882456744a3bb6",
              "version_minor": 0,
              "version_major": 2
            },
            "text/plain": [
              "HBox(children=(IntProgress(value=0, max=111180), HTML(value='')))"
            ]
          },
          "metadata": {
            "tags": []
          }
        },
        {
          "output_type": "stream",
          "text": [
            "\n"
          ],
          "name": "stdout"
        },
        {
          "output_type": "stream",
          "text": [
            "INFO:pytorch_pretrained_bert.file_utils:https://s3.amazonaws.com/models.huggingface.co/bert/bert-base-cased.tar.gz not found in cache, downloading to /tmp/tmpoltm0fqk\n",
            "100%|██████████| 404400730/404400730 [00:34<00:00, 11569559.65B/s]\n",
            "INFO:pytorch_pretrained_bert.file_utils:copying /tmp/tmpoltm0fqk to cache at /content/drive/My Drive/NLP_project/cache/a803ce83ca27fecf74c355673c434e51c265fb8a3e0e57ac62a80e38ba98d384.681017f415dfb33ec8d0e04fe51a619f3f01532ecea04edbfd48c5d160550d9c\n",
            "INFO:pytorch_pretrained_bert.file_utils:creating metadata file for /content/drive/My Drive/NLP_project/cache/a803ce83ca27fecf74c355673c434e51c265fb8a3e0e57ac62a80e38ba98d384.681017f415dfb33ec8d0e04fe51a619f3f01532ecea04edbfd48c5d160550d9c\n",
            "INFO:pytorch_pretrained_bert.file_utils:removing temp file /tmp/tmpoltm0fqk\n",
            "INFO:pytorch_pretrained_bert.modeling:loading archive file https://s3.amazonaws.com/models.huggingface.co/bert/bert-base-cased.tar.gz from cache at /content/drive/My Drive/NLP_project/cache/a803ce83ca27fecf74c355673c434e51c265fb8a3e0e57ac62a80e38ba98d384.681017f415dfb33ec8d0e04fe51a619f3f01532ecea04edbfd48c5d160550d9c\n",
            "INFO:pytorch_pretrained_bert.modeling:extracting archive file /content/drive/My Drive/NLP_project/cache/a803ce83ca27fecf74c355673c434e51c265fb8a3e0e57ac62a80e38ba98d384.681017f415dfb33ec8d0e04fe51a619f3f01532ecea04edbfd48c5d160550d9c to temp dir /tmp/tmp_atb_l7v\n",
            "INFO:pytorch_pretrained_bert.modeling:Model config {\n",
            "  \"attention_probs_dropout_prob\": 0.1,\n",
            "  \"hidden_act\": \"gelu\",\n",
            "  \"hidden_dropout_prob\": 0.1,\n",
            "  \"hidden_size\": 768,\n",
            "  \"initializer_range\": 0.02,\n",
            "  \"intermediate_size\": 3072,\n",
            "  \"max_position_embeddings\": 512,\n",
            "  \"num_attention_heads\": 12,\n",
            "  \"num_hidden_layers\": 12,\n",
            "  \"type_vocab_size\": 2,\n",
            "  \"vocab_size\": 28996\n",
            "}\n",
            "\n",
            "INFO:pytorch_pretrained_bert.modeling:Weights of BertForSequenceClassification not initialized from pretrained model: ['classifier.weight', 'classifier.bias']\n",
            "INFO:pytorch_pretrained_bert.modeling:Weights from pretrained model not used in BertForSequenceClassification: ['cls.predictions.bias', 'cls.predictions.transform.dense.weight', 'cls.predictions.transform.dense.bias', 'cls.predictions.decoder.weight', 'cls.seq_relationship.weight', 'cls.seq_relationship.bias', 'cls.predictions.transform.LayerNorm.weight', 'cls.predictions.transform.LayerNorm.bias']\n",
            "Epoch:   0%|          | 0/1 [00:00<?, ?it/s]"
          ],
          "name": "stderr"
        },
        {
          "output_type": "display_data",
          "data": {
            "application/vnd.jupyter.widget-view+json": {
              "model_id": "3aed6af34db54d378b7cab93987a5afb",
              "version_minor": 0,
              "version_major": 2
            },
            "text/plain": [
              "HBox(children=(IntProgress(value=0, description='Iteration', max=4633, style=ProgressStyle(description_width='…"
            ]
          },
          "metadata": {
            "tags": []
          }
        },
        {
          "output_type": "stream",
          "text": [
            "0.054668"
          ],
          "name": "stdout"
        },
        {
          "output_type": "stream",
          "text": [
            "\rEpoch: 100%|██████████| 1/1 [29:47<00:00, 1787.74s/it]"
          ],
          "name": "stderr"
        },
        {
          "output_type": "stream",
          "text": [
            "\r0.030990\n"
          ],
          "name": "stdout"
        },
        {
          "output_type": "stream",
          "text": [
            "\n",
            "INFO:pytorch_pretrained_bert.tokenization:loading vocabulary file /content/drive/My Drive/NLP_project/reviews/vocab.txt\n"
          ],
          "name": "stderr"
        },
        {
          "output_type": "display_data",
          "data": {
            "application/vnd.jupyter.widget-view+json": {
              "model_id": "e8bb0523a70a444790b4241b17ebfa84",
              "version_minor": 0,
              "version_major": 2
            },
            "text/plain": [
              "HBox(children=(IntProgress(value=0, max=28003), HTML(value='')))"
            ]
          },
          "metadata": {
            "tags": []
          }
        },
        {
          "output_type": "stream",
          "text": [
            "\n"
          ],
          "name": "stdout"
        },
        {
          "output_type": "stream",
          "text": [
            "INFO:pytorch_pretrained_bert.modeling:loading archive file /content/drive/My Drive/NLP_project/reviews/\n",
            "INFO:pytorch_pretrained_bert.modeling:Model config {\n",
            "  \"attention_probs_dropout_prob\": 0.1,\n",
            "  \"hidden_act\": \"gelu\",\n",
            "  \"hidden_dropout_prob\": 0.1,\n",
            "  \"hidden_size\": 768,\n",
            "  \"initializer_range\": 0.02,\n",
            "  \"intermediate_size\": 3072,\n",
            "  \"max_position_embeddings\": 512,\n",
            "  \"num_attention_heads\": 12,\n",
            "  \"num_hidden_layers\": 12,\n",
            "  \"type_vocab_size\": 2,\n",
            "  \"vocab_size\": 28996\n",
            "}\n",
            "\n"
          ],
          "name": "stderr"
        },
        {
          "output_type": "display_data",
          "data": {
            "application/vnd.jupyter.widget-view+json": {
              "model_id": "01465ef0886b49da8f5ff99f3b7367fb",
              "version_minor": 0,
              "version_major": 2
            },
            "text/plain": [
              "HBox(children=(IntProgress(value=0, description='Evaluating', max=876, style=ProgressStyle(description_width='…"
            ]
          },
          "metadata": {
            "tags": []
          }
        },
        {
          "output_type": "stream",
          "text": [
            "INFO:root:***** Eval results *****\n",
            "INFO:root:  task = reviews\n",
            "INFO:root:  mcc = 0.7069234130052225\n",
            "INFO:root:  tp = 25838\n",
            "INFO:root:  tn = 1221\n",
            "INFO:root:  fp = 630\n",
            "INFO:root:  fn = 314\n",
            "INFO:root:  Accuracy = 0.9662893261436275\n",
            "INFO:root:  precision = 0.9761976726613268\n",
            "INFO:root:  recall = 0.9879932701131845\n",
            "INFO:root:  f1 score = 0.9820600532117066\n",
            "INFO:root:  eval_loss = 0.08935110619053517\n"
          ],
          "name": "stderr"
        },
        {
          "output_type": "stream",
          "text": [
            "\n"
          ],
          "name": "stdout"
        }
      ]
    },
    {
      "cell_type": "markdown",
      "metadata": {
        "id": "SaALfAsORt6z",
        "colab_type": "text"
      },
      "source": [
        "# Generating Recommendations"
      ]
    },
    {
      "cell_type": "code",
      "metadata": {
        "id": "q2m3ZZ9NSjcS",
        "colab_type": "code",
        "outputId": "9e7e615b-5092-4e01-eb33-6c30d2754172",
        "colab": {
          "base_uri": "https://localhost:8080/",
          "height": 343
        }
      },
      "source": [
        "#Since GRU model is performing the best, we will be using the GRU model to get our recommendations\n",
        "model_name = tf.keras.models.load_model('GRU_project.model')"
      ],
      "execution_count": 0,
      "outputs": [
        {
          "output_type": "stream",
          "text": [
            "WARNING:tensorflow:From /usr/local/lib/python3.6/dist-packages/tensorflow_core/python/keras/initializers.py:119: calling RandomUniform.__init__ (from tensorflow.python.ops.init_ops) with dtype is deprecated and will be removed in a future version.\n",
            "Instructions for updating:\n",
            "Call initializer instance with the dtype argument instead of passing it to the constructor\n",
            "WARNING:tensorflow:From /usr/local/lib/python3.6/dist-packages/tensorflow_core/python/ops/resource_variable_ops.py:1630: calling BaseResourceVariable.__init__ (from tensorflow.python.ops.resource_variable_ops) with constraint is deprecated and will be removed in a future version.\n",
            "Instructions for updating:\n",
            "If using Keras pass *_constraint arguments to layers.\n",
            "WARNING:tensorflow:From /usr/local/lib/python3.6/dist-packages/tensorflow_core/python/ops/init_ops.py:97: calling VarianceScaling.__init__ (from tensorflow.python.ops.init_ops) with dtype is deprecated and will be removed in a future version.\n",
            "Instructions for updating:\n",
            "Call initializer instance with the dtype argument instead of passing it to the constructor\n",
            "WARNING:tensorflow:From /usr/local/lib/python3.6/dist-packages/tensorflow_core/python/ops/init_ops.py:97: calling Orthogonal.__init__ (from tensorflow.python.ops.init_ops) with dtype is deprecated and will be removed in a future version.\n",
            "Instructions for updating:\n",
            "Call initializer instance with the dtype argument instead of passing it to the constructor\n",
            "WARNING:tensorflow:From /usr/local/lib/python3.6/dist-packages/tensorflow_core/python/ops/init_ops.py:97: calling Zeros.__init__ (from tensorflow.python.ops.init_ops) with dtype is deprecated and will be removed in a future version.\n",
            "Instructions for updating:\n",
            "Call initializer instance with the dtype argument instead of passing it to the constructor\n",
            "WARNING:tensorflow:From /usr/local/lib/python3.6/dist-packages/tensorflow_core/python/ops/math_grad.py:1424: where (from tensorflow.python.ops.array_ops) is deprecated and will be removed in a future version.\n",
            "Instructions for updating:\n",
            "Use tf.where in 2.0, which has the same broadcast rule as np.where\n"
          ],
          "name": "stdout"
        }
      ]
    },
    {
      "cell_type": "code",
      "metadata": {
        "id": "6RUmYYmcuWte",
        "colab_type": "code",
        "outputId": "c7d31584-d032-49c1-8879-7d466f619050",
        "colab": {
          "base_uri": "https://localhost:8080/",
          "height": 34
        }
      },
      "source": [
        "#predicting sentiment\n",
        "pred = model_name.predict(train_X, batch_size=128, verbose=1)"
      ],
      "execution_count": 0,
      "outputs": [
        {
          "output_type": "stream",
          "text": [
            "139183/139183 [==============================] - 76s 548us/sample\n"
          ],
          "name": "stdout"
        }
      ]
    },
    {
      "cell_type": "code",
      "metadata": {
        "id": "9aaqLIDmv8XW",
        "colab_type": "code",
        "colab": {}
      },
      "source": [
        "y_pred, y_act = prediction_fun(pred,label_Y)"
      ],
      "execution_count": 0,
      "outputs": []
    },
    {
      "cell_type": "markdown",
      "metadata": {
        "id": "PhlX_w9i1WIQ",
        "colab_type": "text"
      },
      "source": [
        "Performance of the loaded GRU model on the whole dataset"
      ]
    },
    {
      "cell_type": "code",
      "metadata": {
        "id": "tmed-omewtBg",
        "colab_type": "code",
        "outputId": "a2f5e170-c8ae-41ee-acd6-85566d3623a8",
        "colab": {
          "base_uri": "https://localhost:8080/",
          "height": 187
        }
      },
      "source": [
        "precision, recall, f1, roc_score, mean_sq_error, mean_abs_error = evaluation(y_pred,y_act)\n",
        "print (\"precision:\",precision,\"recall:\",recall,\"f1-score:\",f1,\"roc_score:\",roc_score,\"mean squared error:\",mean_sq_error,\"mean absolute error:\",mean_abs_error)\n",
        "print('confusion matrix',classification_report(y_pred, y_act))"
      ],
      "execution_count": 0,
      "outputs": [
        {
          "output_type": "stream",
          "text": [
            "precision: 0.9963028860595697 recall: 0.9863054435099545 f1-score: 0.9912789583796336 roc_score: 0.9632871169764805 mean squared error: 0.01635257179396909 mean absolute error: 0.01635257179396909\n",
            "confusion matrix               precision    recall  f1-score   support\n",
            "\n",
            "           0       0.81      0.94      0.87      8036\n",
            "           1       1.00      0.99      0.99    131147\n",
            "\n",
            "    accuracy                           0.98    139183\n",
            "   macro avg       0.90      0.96      0.93    139183\n",
            "weighted avg       0.99      0.98      0.98    139183\n",
            "\n"
          ],
          "name": "stdout"
        }
      ]
    },
    {
      "cell_type": "markdown",
      "metadata": {
        "id": "UlCoa9HfI2WP",
        "colab_type": "text"
      },
      "source": [
        "Generating file with top 5 most recommended dishes per restaurant, recommendation.csv : name of file with top 5 recommended dishes per restaurant"
      ]
    },
    {
      "cell_type": "code",
      "metadata": {
        "id": "mqag-3e3Rtoy",
        "colab_type": "code",
        "colab": {}
      },
      "source": [
        "num_items = len(pd.Series.to_list(dataset['text']))\n",
        "scores = {}\n",
        "for i in range(num_items):\n",
        "  sentiment = y_pred[i]\n",
        "  sentiment = sentiment * 2 - 1\n",
        "  scores.setdefault(dataset['restaurant_id'][i], dict())\n",
        "  scores[dataset['restaurant_id'][i]].setdefault(dataset['menu_item'][i], 0)\n",
        "  scores[dataset['restaurant_id'][i]][dataset['menu_item'][i]] += sentiment"
      ],
      "execution_count": 0,
      "outputs": []
    },
    {
      "cell_type": "code",
      "metadata": {
        "id": "z42tB7em2qeC",
        "colab_type": "code",
        "colab": {}
      },
      "source": [
        "#recommendation.csv : name of file with top 5 recommended dishes per restaurant\n",
        "top_restaurants = {}\n",
        "f = open('recommendation.csv', 'w')\n",
        "f.write(\"restaurant,top_choices\\n\")\n",
        "for restaurant in scores:\n",
        "  rscores = [(menu_item, score) for menu_item, score in scores[restaurant].items()]\n",
        "  rscores.sort(key=lambda tup: tup[1], reverse=True)\n",
        "  total_recommendations = 0\n",
        "  for i in rscores:\n",
        "    total_recommendations += i[1]\n",
        "  top_restaurants[restaurant] = total_recommendations\n",
        "  rscores = rscores[:5]\n",
        "  recommendations = list(map(lambda x: x[0], rscores))\n",
        "  f.write(\"{}, [{}]\\n\".format(restaurant, \" | \".join(recommendations)))\n",
        "f.close()\n",
        "sorted_dic = [(k, top_restaurants[k]) for k in sorted(top_restaurants, key=top_restaurants.get, reverse=True)]\n",
        "res_score = {}\n",
        "restaurants = []\n",
        "for i in range(10):\n",
        "  res_score[sorted_dic[i][0]] = sorted_dic[i][1]\n",
        "\n",
        "for i in sorted_dic:\n",
        "  restaurants.append(i[0])"
      ],
      "execution_count": 0,
      "outputs": []
    },
    {
      "cell_type": "code",
      "metadata": {
        "id": "zbsB3NKhLCsA",
        "colab_type": "code",
        "outputId": "e385abf6-a57b-4a30-fbe4-40065f264b13",
        "colab": {
          "base_uri": "https://localhost:8080/",
          "height": 111
        }
      },
      "source": [
        "#sample recommendations\n",
        "recommended_df = pd.read_csv('recommendation.csv')\n",
        "recommended_df.head(2)"
      ],
      "execution_count": 0,
      "outputs": [
        {
          "output_type": "execute_result",
          "data": {
            "text/html": [
              "<div>\n",
              "<style scoped>\n",
              "    .dataframe tbody tr th:only-of-type {\n",
              "        vertical-align: middle;\n",
              "    }\n",
              "\n",
              "    .dataframe tbody tr th {\n",
              "        vertical-align: top;\n",
              "    }\n",
              "\n",
              "    .dataframe thead th {\n",
              "        text-align: right;\n",
              "    }\n",
              "</style>\n",
              "<table border=\"1\" class=\"dataframe\">\n",
              "  <thead>\n",
              "    <tr style=\"text-align: right;\">\n",
              "      <th></th>\n",
              "      <th>restaurant</th>\n",
              "      <th>top_choices</th>\n",
              "    </tr>\n",
              "  </thead>\n",
              "  <tbody>\n",
              "    <tr>\n",
              "      <th>0</th>\n",
              "      <td>submerge-sandwich-los-angeles</td>\n",
              "      <td>[Pickles | Lemon Herb Chicken Sandwich | BTLA...</td>\n",
              "    </tr>\n",
              "    <tr>\n",
              "      <th>1</th>\n",
              "      <td>reggies-deli-and-cafe-los-angeles</td>\n",
              "      <td>[BLT Sandwich | Latte | Potato Salad | Cobb S...</td>\n",
              "    </tr>\n",
              "  </tbody>\n",
              "</table>\n",
              "</div>"
            ],
            "text/plain": [
              "                          restaurant                                        top_choices\n",
              "0      submerge-sandwich-los-angeles   [Pickles | Lemon Herb Chicken Sandwich | BTLA...\n",
              "1  reggies-deli-and-cafe-los-angeles   [BLT Sandwich | Latte | Potato Salad | Cobb S..."
            ]
          },
          "metadata": {
            "tags": []
          },
          "execution_count": 21
        }
      ]
    },
    {
      "cell_type": "markdown",
      "metadata": {
        "id": "t9f1MefCI_r0",
        "colab_type": "text"
      },
      "source": [
        "Plotting top 10 most positively reviewed restaurants"
      ]
    },
    {
      "cell_type": "code",
      "metadata": {
        "id": "pffbYan01SLf",
        "colab_type": "code",
        "outputId": "6165a048-dd08-451c-d3f1-a5e9857b5ce3",
        "colab": {
          "base_uri": "https://localhost:8080/",
          "height": 475
        }
      },
      "source": [
        "from wordcloud import WordCloud, STOPWORDS \n",
        "import matplotlib.pyplot as plt \n",
        "import pandas as pd \n",
        "\n",
        "\n",
        "plt.bar(range(len(res_score)), list(res_score.values()), align='center')\n",
        "plt.title('Top 10 most postively reviewed restaurants', fontdict=None, loc='center', pad=None)\n",
        "plt.xticks(range(len(res_score)), list(res_score.keys()), rotation='vertical')\n",
        "\n",
        "plt.show()"
      ],
      "execution_count": 0,
      "outputs": [
        {
          "output_type": "display_data",
          "data": {
            "image/png": "[encoded data removed]",
            "text/plain": [
              "<Figure size 432x288 with 1 Axes>"
            ]
          },
          "metadata": {
            "tags": []
          }
        }
      ]
    },
    {
      "cell_type": "code",
      "metadata": {
        "id": "-ZZAriT0JihG",
        "colab_type": "code",
        "colab": {}
      },
      "source": [
        "business_mapping = {}\n",
        "business_df = pd.read_json('businesses.json')\n",
        "business_mapping = pd.Series(business_df.name.values,index=business_df.id).to_dict()\n",
        "restaurant_name = []\n",
        "for i in restaurants:\n",
        "  if i in business_mapping:\n",
        "    restaurant_name.append(business_mapping[i])"
      ],
      "execution_count": 0,
      "outputs": []
    },
    {
      "cell_type": "markdown",
      "metadata": {
        "id": "-yuEEq6JLenz",
        "colab_type": "text"
      },
      "source": [
        "Word cloud for top 50 most positively reviewed restaurants"
      ]
    },
    {
      "cell_type": "code",
      "metadata": {
        "id": "Ms_De8tzJjr-",
        "colab_type": "code",
        "outputId": "9ff6c218-3a81-40f7-f7a3-68dbeda143cc",
        "colab": {
          "base_uri": "https://localhost:8080/",
          "height": 463
        }
      },
      "source": [
        "# importing all necessery modules \n",
        "from wordcloud import WordCloud, STOPWORDS \n",
        "import matplotlib.pyplot as plt \n",
        "import pandas as pd \n",
        "text = ' '\n",
        "for i in restaurant_name[:50]:\n",
        "  name = i.replace(' ','_')\n",
        "  text = text + name + ' '\n",
        "\n",
        "wordcloud = WordCloud(width = 600, height = 600, \n",
        "                background_color ='white',                \n",
        "                min_font_size = 10).generate(text) \n",
        "  \n",
        "# plot the WordCloud image                        \n",
        "plt.figure(figsize = (6, 6), facecolor = None)\n",
        "plt.title('Top 50 most postively reviewed restaurants', fontdict=None, loc='center', pad=None)\n",
        "plt.imshow(wordcloud) \n",
        "plt.axis(\"off\") \n",
        "plt.tight_layout(pad = 0) \n",
        "  \n",
        "plt.show()"
      ],
      "execution_count": 0,
      "outputs": [
        {
          "output_type": "display_data",
          "data": {
            "image/png": "[encoded data removed]",
            "text/plain": [
              "<Figure size 432x432 with 1 Axes>"
            ]
          },
          "metadata": {
            "tags": []
          }
        }
      ]
    },
    {
      "cell_type": "markdown",
      "metadata": {
        "id": "CtLtX0byk9KA",
        "colab_type": "text"
      },
      "source": [
        "Some sample plots to show top recommended dishes from the most favoured restaurant"
      ]
    },
    {
      "cell_type": "code",
      "metadata": {
        "id": "Q__0vHuklD3v",
        "colab_type": "code",
        "outputId": "43c205ec-7a7b-4b2e-b660-3f6cdc3c6bd2",
        "colab": {
          "base_uri": "https://localhost:8080/",
          "height": 34
        }
      },
      "source": [
        "#recommendation.csv : name of file with top 5 recommended dishes per restaurant\n",
        "top_restaurants = {}\n",
        "\n",
        "for restaurant in scores:\n",
        "  rscores = [(menu_item, score) for menu_item, score in scores[restaurant].items()]\n",
        "  rscores.sort(key=lambda tup: tup[1], reverse=True)\n",
        "  total_recommendations = 0\n",
        "  for i in rscores:\n",
        "    total_recommendations += i[1]\n",
        "  top_restaurants[restaurant] = total_recommendations\n",
        "  rscores = rscores[:5]\n",
        "  recommendations = list(map(lambda x: x[0], rscores))\n",
        "\n",
        "sorted_dic = [(k, top_restaurants[k]) for k in sorted(top_restaurants, key=top_restaurants.get, reverse=True)]\n",
        "res_score = {}\n",
        "\n",
        "restaurants = []\n",
        "for i in range(10):\n",
        "  res_score[sorted_dic[i][0]] = sorted_dic[i][1]\n",
        "\n",
        "for i in sorted_dic:\n",
        "  restaurants.append(i[0])\n",
        "\n",
        "print('the most favoured restaurant is:',restaurants[0])"
      ],
      "execution_count": 0,
      "outputs": [
        {
          "output_type": "stream",
          "text": [
            "the most favoured restaurant is: philippe-the-original-los-angeles\n"
          ],
          "name": "stdout"
        }
      ]
    },
    {
      "cell_type": "markdown",
      "metadata": {
        "id": "4wyl76ivmjsV",
        "colab_type": "text"
      },
      "source": [
        "Top 10 recommended dishes for the most favoured restaurant plot"
      ]
    },
    {
      "cell_type": "code",
      "metadata": {
        "id": "d3Nk9DKile12",
        "colab_type": "code",
        "colab": {}
      },
      "source": [
        "for restaurant in scores:\n",
        "  rscores = [(menu_item, score) for menu_item, score in scores[restaurant].items()]\n",
        "  rscores.sort(key=lambda tup: tup[1], reverse=True)\n",
        "  total_recommendations = 0\n",
        "  for i in rscores:\n",
        "    total_recommendations += i[1]\n",
        "  top_restaurants[restaurant] = total_recommendations\n",
        "  rscores = rscores[:10]\n",
        "  plot_1 = {}\n",
        "  if restaurant == 'philippe-the-original-los-angeles':\n",
        "    for i in rscores:\n",
        "      plot_1[i[0]] = i[1]\n",
        "    break;"
      ],
      "execution_count": 0,
      "outputs": []
    },
    {
      "cell_type": "code",
      "metadata": {
        "id": "3mk7t2dFl5cV",
        "colab_type": "code",
        "outputId": "1b57aacb-3dba-4a42-e5bd-a024017c5ece",
        "colab": {
          "base_uri": "https://localhost:8080/",
          "height": 348
        }
      },
      "source": [
        "plt.bar(range(len(plot_1)), list(plot_1.values()), align='center')\n",
        "plt.title('Top 10 recommended dishes for the most favoured restaurant', fontdict=None, loc='center', pad=None)\n",
        "plt.xticks(range(len(plot_1)), list(plot_1.keys()), rotation='vertical')\n",
        "plt.show()"
      ],
      "execution_count": 0,
      "outputs": [
        {
          "output_type": "display_data",
          "data": {
            "image/png": "[encoded data removed]",
            "text/plain": [
              "<Figure size 432x288 with 1 Axes>"
            ]
          },
          "metadata": {
            "tags": []
          }
        }
      ]
    },
    {
      "cell_type": "markdown",
      "metadata": {
        "id": "V5MHV0hmmg3i",
        "colab_type": "text"
      },
      "source": [
        "Top 50 recommended dishes for the most favoured restaurant word cloud"
      ]
    },
    {
      "cell_type": "code",
      "metadata": {
        "id": "mZBtKIDqmGGq",
        "colab_type": "code",
        "colab": {}
      },
      "source": [
        "for restaurant in scores:\n",
        "  rscores = [(menu_item, score) for menu_item, score in scores[restaurant].items()]\n",
        "  rscores.sort(key=lambda tup: tup[1], reverse=True)\n",
        "  total_recommendations = 0\n",
        "  for i in rscores:\n",
        "    total_recommendations += i[1]\n",
        "  top_restaurants[restaurant] = total_recommendations\n",
        "  rscores = rscores[:50]\n",
        "  plot_1 = []\n",
        "  if restaurant == 'philippe-the-original-los-angeles':\n",
        "    for i in rscores:\n",
        "      plot_1.append(i[0])\n",
        "    break;"
      ],
      "execution_count": 0,
      "outputs": []
    },
    {
      "cell_type": "code",
      "metadata": {
        "id": "a_sOjLwMmNp1",
        "colab_type": "code",
        "outputId": "e94275e1-719f-4e89-9927-c71065658529",
        "colab": {
          "base_uri": "https://localhost:8080/",
          "height": 436
        }
      },
      "source": [
        "text = ' '\n",
        "for i in plot_1:\n",
        "  name = i.replace(' ','_')\n",
        "  text = text + name + ' '\n",
        "\n",
        "wordcloud = WordCloud(width = 600, height = 600, \n",
        "                background_color ='white',                \n",
        "                min_font_size = 10).generate(text) \n",
        "  \n",
        "# plot the WordCloud image                        \n",
        "plt.figure(figsize = (6, 6), facecolor = None)\n",
        "plt.title('Top 50 recommended dishes for the most favoured restaurant', fontdict=None, loc='center', pad=None)\n",
        "plt.imshow(wordcloud) \n",
        "plt.axis(\"off\") \n",
        "plt.tight_layout(pad = 0) \n",
        "  \n",
        "plt.show()"
      ],
      "execution_count": 0,
      "outputs": [
        {
          "output_type": "display_data",
          "data": {
            "image/png": "[encoded data removed]",
            "text/plain": [
              "<Figure size 432x432 with 1 Axes>"
            ]
          },
          "metadata": {
            "tags": []
          }
        }
      ]
    }
  ]
}